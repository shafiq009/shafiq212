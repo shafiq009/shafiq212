{
 "cells": [
  {
   "cell_type": "code",
   "execution_count": 57,
   "metadata": {},
   "outputs": [],
   "source": [
    "def imports():\n",
    "    from selenium import webdriver\n",
    "    from selenium.webdriver.common.by import By\n",
    "def openProject(url):\n",
    "    chrome_options = webdriver.ChromeOptions()\n",
    "    driver = webdriver.Chrome(\"chromedriver.exe\",options=chrome_options)\n",
    "    driver.get(url)\n",
    "    driver.maximize_window()\n",
    "    return driver\n",
    "def elefind(driver,identifier):\n",
    "    try: \n",
    "        return driver.find_element(By.ID, identifier)\n",
    "    except: \n",
    "        try:\n",
    "            return driver.find_element(By.NAME, identifier)\n",
    "        except: \n",
    "            try:\n",
    "                return driver.find_element(By.TAG_NAME, identifier)\n",
    "            except:\n",
    "                try:\n",
    "                    return driver.find_element(By.XPATH, identifier)\n",
    "                except:\n",
    "                    try:\n",
    "                        return driver.find_element(By.CLASS_NAME,identifier)\n",
    "                    except:\n",
    "                        return False\n",
    "def urlprint(driver):\n",
    "    current_url = driver.current_url\n",
    "    print(current_url)\n",
    "def login(driver,email,password):\n",
    "    emailfield = elefind(driver,\"email\")\n",
    "    emailfield.send_keys(email)\n",
    "    pwdfield = elefind(driver, \"password\")\n",
    "    pwdfield.send_keys(password)\n",
    "    rememberme = elefind(driver, \"/html/body/div/div[2]/form/div[3]/div[1]/div/label\")\n",
    "    rememberme.click()\n",
    "    subbtn = elefind(driver,\"button\")\n",
    "    subbtn.click()\n",
    "def logout(driver):\n",
    "    logoutbtn = elefind(driver, \"glyphicon-log-out\")\n",
    "    logoutbtn.click()\n",
    "def dash(driver):\n",
    "    elefind(driver,\"/html/body/div[1]/aside/section/ul/li[1]/a\").click()\n",
    "    urlprint(driver)\n",
    "def closeProject(driver):\n",
    "    driver.close()\n",
    "    driver.quit()"
   ]
  },
  {
   "cell_type": "markdown",
   "metadata": {},
   "source": [
    "Test for wrong password in log in"
   ]
  },
  {
   "cell_type": "code",
   "execution_count": 36,
   "metadata": {},
   "outputs": [
    {
     "name": "stderr",
     "output_type": "stream",
     "text": [
      "C:\\Users\\furm9\\AppData\\Roaming\\Python\\Python37\\site-packages\\ipykernel_launcher.py:7: DeprecationWarning: executable_path has been deprecated, please pass in a Service object\n",
      "  import sys\n"
     ]
    },
    {
     "name": "stdout",
     "output_type": "stream",
     "text": [
      "http://localhost/stock-v2/auth/login\n"
     ]
    }
   ],
   "source": [
    "from time import sleep\n",
    "\n",
    "url = \"http://localhost/stock_project/stock-v2/\"\n",
    "imports()\n",
    "driver = openProject(url)\n",
    "sleep(1)\n",
    "login(driver, \"admin@admin.com\",\"passwor\")\n",
    "urlprint(driver)\n",
    "sleep(2)\n",
    "assert \"Email does not exists\" or \"Incorrect username/passwordcombination\" in elefind(driver,\"/html/body/div/div[2]\").text\n",
    "sleep(2)\n",
    "closeProject(driver)"
   ]
  },
  {
   "cell_type": "markdown",
   "metadata": {},
   "source": [
    "test for wrong email in log in"
   ]
  },
  {
   "cell_type": "code",
   "execution_count": 37,
   "metadata": {},
   "outputs": [
    {
     "name": "stderr",
     "output_type": "stream",
     "text": [
      "C:\\Users\\furm9\\AppData\\Roaming\\Python\\Python37\\site-packages\\ipykernel_launcher.py:7: DeprecationWarning: executable_path has been deprecated, please pass in a Service object\n",
      "  import sys\n"
     ]
    },
    {
     "name": "stdout",
     "output_type": "stream",
     "text": [
      "http://localhost/stock-v2/auth/login\n"
     ]
    }
   ],
   "source": [
    "from time import sleep\n",
    "\n",
    "url = \"http://localhost/stock_project/stock-v2/\"\n",
    "imports()\n",
    "driver = openProject(url)\n",
    "sleep(1)\n",
    "login(driver, \"admin@admin.co\",\"passwordf\")\n",
    "urlprint(driver)\n",
    "sleep(2)\n",
    "assert \"Email does not exists\" or \"Incorrect username/passwordcombination\" in elefind(driver,\"/html/body/div/div[2]\").text\n",
    "sleep(2)\n",
    "closeProject(driver)"
   ]
  },
  {
   "cell_type": "markdown",
   "metadata": {},
   "source": [
    "test for valid log in"
   ]
  },
  {
   "cell_type": "code",
   "execution_count": 47,
   "metadata": {},
   "outputs": [
    {
     "name": "stderr",
     "output_type": "stream",
     "text": [
      "C:\\Users\\furm9\\AppData\\Roaming\\Python\\Python37\\site-packages\\ipykernel_launcher.py:6: DeprecationWarning: executable_path has been deprecated, please pass in a Service object\n",
      "  \n"
     ]
    },
    {
     "name": "stdout",
     "output_type": "stream",
     "text": [
      "http://localhost/stock-v2/dashboard\n"
     ]
    }
   ],
   "source": [
    "from time import sleep\n",
    "\n",
    "url = \"http://localhost/stock_project/stock-v2/\"\n",
    "imports()\n",
    "driver = openProject(url)\n",
    "sleep(1)\n",
    "login(driver, \"admin@admin.com\",\"password\")\n",
    "urlprint(driver)\n",
    "sleep(2)\n",
    "assert \"Email does not exists\" or \"Incorrect username/passwordcombination\" in elefind(driver,\"/html/body/div/div[2]\").text\n",
    "sleep(2)\n",
    "closeProject(driver)"
   ]
  },
  {
   "cell_type": "markdown",
   "metadata": {},
   "source": [
    "testing log out"
   ]
  },
  {
   "cell_type": "code",
   "execution_count": 53,
   "metadata": {},
   "outputs": [
    {
     "name": "stderr",
     "output_type": "stream",
     "text": [
      "C:\\Users\\furm9\\AppData\\Roaming\\Python\\Python37\\site-packages\\ipykernel_launcher.py:6: DeprecationWarning: executable_path has been deprecated, please pass in a Service object\n",
      "  \n"
     ]
    },
    {
     "name": "stdout",
     "output_type": "stream",
     "text": [
      "http://localhost/stock-v2/dashboard\n",
      "http://localhost/stock-v2/auth/login\n"
     ]
    }
   ],
   "source": [
    "from time import sleep\n",
    "\n",
    "url = \"http://localhost/stock_project/stock-v2/\"\n",
    "imports()\n",
    "driver = openProject(url)\n",
    "sleep(1)\n",
    "login(driver, \"admin@admin.com\",\"password\")\n",
    "urlprint(driver)\n",
    "sleep(2)\n",
    "logout(driver)\n",
    "sleep(2)\n",
    "urlprint(driver)\n",
    "closeProject(driver)"
   ]
  },
  {
   "cell_type": "markdown",
   "metadata": {},
   "source": []
  },
  {
   "cell_type": "code",
   "execution_count": null,
   "metadata": {},
   "outputs": [],
   "source": []
  },
  {
   "cell_type": "code",
   "execution_count": 66,
   "metadata": {},
   "outputs": [
    {
     "name": "stderr",
     "output_type": "stream",
     "text": [
      "C:\\Users\\furm9\\AppData\\Roaming\\Python\\Python37\\site-packages\\ipykernel_launcher.py:6: DeprecationWarning: executable_path has been deprecated, please pass in a Service object\n",
      "  \n"
     ]
    },
    {
     "name": "stdout",
     "output_type": "stream",
     "text": [
      "http://localhost/stock-v2/dashboard\n",
      "http://localhost/stock-v2/users/setting/\n",
      "http://localhost/stock-v2/dashboard\n",
      "http://localhost/stock-v2/dashboard\n",
      "http://localhost/stock-v2/users/create\n",
      "http://localhost/stock-v2/users\n",
      "http://localhost/stock-v2/users\n",
      "http://localhost/stock-v2/groups/create\n",
      "http://localhost/stock-v2/groups\n",
      "http://localhost/stock-v2/brands/\n",
      "http://localhost/stock-v2/category/\n",
      "http://localhost/stock-v2/stores/\n",
      "http://localhost/stock-v2/attributes/\n",
      "http://localhost/stock-v2/attributes/\n",
      "http://localhost/stock-v2/products/create\n",
      "http://localhost/stock-v2/products\n",
      "http://localhost/stock-v2/products\n",
      "http://localhost/stock-v2/orders/create\n",
      "http://localhost/stock-v2/orders\n",
      "http://localhost/stock-v2/reports/\n",
      "http://localhost/stock-v2/company/\n",
      "http://localhost/stock-v2/users/profile/\n",
      "http://localhost/stock-v2/users/setting/\n",
      "http://localhost/stock-v2/dashboard\n",
      "http://localhost/stock-v2/dashboard\n",
      "http://localhost/stock-v2/dashboard\n",
      "http://localhost/stock-v2/dashboard\n",
      "http://localhost/stock-v2/auth/login\n"
     ]
    }
   ],
   "source": [
    "from time import sleep\n",
    "\n",
    "url = \"http://localhost/stock_project/stock-v2/\"\n",
    "imports()\n",
    "driver = openProject(url)\n",
    "sleep(1)\n",
    "login(driver, \"admin@admin.com\",\"password\")\n",
    "urlprint(driver)\n",
    "sleep(2)\n",
    "elefind(driver,\"/html/body/div[1]/aside/section/ul/li[13]/a\").click()\n",
    "urlprint(driver)\n",
    "sleep(1)\n",
    "elefind(driver,\"/html/body/div[1]/aside/section/ul/li[1]/a\").click()\n",
    "urlprint(driver)\n",
    "sleep(1)\n",
    "elefind(driver,\"fa-users\").click()\n",
    "urlprint(driver)\n",
    "sleep(1)\n",
    "elefind(driver,\"/html/body/div[1]/aside/section/ul/li[2]/ul/li[1]/a\").click()\n",
    "urlprint(driver)\n",
    "sleep(1)\n",
    "elefind(driver,\"/html/body/div[1]/aside/section/ul/li[2]/ul/li[2]/a\").click()\n",
    "urlprint(driver)\n",
    "sleep(1)\n",
    "elefind(driver,\"fa-files-o\").click()\n",
    "urlprint(driver)\n",
    "sleep(1)\n",
    "elefind(driver,\"/html/body/div[1]/aside/section/ul/li[3]/ul/li[1]/a\").click()\n",
    "urlprint(driver)\n",
    "sleep(1)\n",
    "elefind(driver,\"/html/body/div[1]/aside/section/ul/li[3]/ul/li[2]/a\").click()\n",
    "urlprint(driver)\n",
    "sleep(1)\n",
    "elefind(driver,\"/html/body/div[1]/aside/section/ul/li[4]/a\").click()\n",
    "urlprint(driver)\n",
    "sleep(1)\n",
    "elefind(driver,\"/html/body/div[1]/aside/section/ul/li[5]/a\").click()\n",
    "urlprint(driver)\n",
    "sleep(1)\n",
    "elefind(driver,\"/html/body/div[1]/aside/section/ul/li[6]/a\").click()\n",
    "urlprint(driver)\n",
    "sleep(1)\n",
    "elefind(driver,\"/html/body/div[1]/aside/section/ul/li[7]/a\").click()\n",
    "urlprint(driver)\n",
    "sleep(1)\n",
    "elefind(driver,\"fa-cube\").click()\n",
    "urlprint(driver)\n",
    "sleep(1)\n",
    "elefind(driver,\"/html/body/div[1]/aside/section/ul/li[8]/ul/li[1]/a\").click()\n",
    "urlprint(driver)\n",
    "sleep(1)\n",
    "elefind(driver,\"/html/body/div[1]/aside/section/ul/li[8]/ul/li[2]/a\").click()\n",
    "urlprint(driver)\n",
    "sleep(1)\n",
    "elefind(driver,\"fa-dollar\").click()\n",
    "urlprint(driver)\n",
    "sleep(1)\n",
    "elefind(driver,\"/html/body/div[1]/aside/section/ul/li[9]/ul/li[1]/a\").click()\n",
    "urlprint(driver)\n",
    "sleep(1)\n",
    "elefind(driver,\"/html/body/div[1]/aside/section/ul/li[9]/ul/li[2]/a\").click()\n",
    "urlprint(driver)\n",
    "sleep(1)\n",
    "elefind(driver,\"/html/body/div[1]/aside/section/ul/li[10]/a\").click()\n",
    "urlprint(driver)\n",
    "sleep(1)\n",
    "elefind(driver,\"/html/body/div[1]/aside/section/ul/li[11]/a\").click()\n",
    "urlprint(driver)\n",
    "sleep(1)\n",
    "elefind(driver,\"/html/body/div[1]/aside/section/ul/li[12]/a\").click()\n",
    "urlprint(driver)\n",
    "sleep(1)\n",
    "elefind(driver,\"/html/body/div[1]/aside/section/ul/li[13]/a\").click()\n",
    "urlprint(driver)\n",
    "sleep(1)\n",
    "dash(driver)\n",
    "elefind(driver,\"/html/body/div[1]/div[1]/section[2]/div/div[1]/div/a\").click()\n",
    "# sleep(1)\n",
    "# urlprint(url)\n",
    "sleep(1)\n",
    "dash(driver)\n",
    "elefind(driver,\"/html/body/div[1]/div[1]/section[2]/div/div[2]/div/a\").click()\n",
    "sleep(1)\n",
    "# urlprint(url)\n",
    "# sleep(1)\n",
    "dash(driver)\n",
    "elefind(driver,\"/html/body/div[1]/div[1]/section[2]/div/div[3]/div/a\").click()\n",
    "sleep(1)\n",
    "# urlprint(url)\n",
    "# sleep(1)\n",
    "dash(driver)\n",
    "elefind(driver,\"/html/body/div[1]/div[1]/section[2]/div/div[4]/div/a\").click()\n",
    "sleep(1)\n",
    "# urlprint(url)\n",
    "# sleep(1)\n",
    "logout(driver)\n",
    "sleep(2)\n",
    "urlprint(driver)\n",
    "closeProject(driver)"
   ]
  }
 ],
 "metadata": {
  "kernelspec": {
   "display_name": "Python 3.7.0 64-bit",
   "language": "python",
   "name": "python3"
  },
  "language_info": {
   "codemirror_mode": {
    "name": "ipython",
    "version": 3
   },
   "file_extension": ".py",
   "mimetype": "text/x-python",
   "name": "python",
   "nbconvert_exporter": "python",
   "pygments_lexer": "ipython3",
   "version": "3.7.0"
  },
  "orig_nbformat": 4,
  "vscode": {
   "interpreter": {
    "hash": "3e40f51754c79f023ce4dbbca9aac9f717fdd8f3fd66888bd8477a57445663a1"
   }
  }
 },
 "nbformat": 4,
 "nbformat_minor": 2
}
