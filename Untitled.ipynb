{
 "cells": [
  {
   "cell_type": "code",
   "execution_count": 1,
   "id": "b8929760",
   "metadata": {},
   "outputs": [
    {
     "name": "stderr",
     "output_type": "stream",
     "text": [
      "C:\\ProgramData\\Anaconda3\\lib\\site-packages\\ipykernel_launcher.py:5: DeprecationWarning: executable_path has been deprecated, please pass in a Service object\n",
      "  \"\"\"\n"
     ]
    }
   ],
   "source": [
    "import time\n",
    "from selenium import webdriver\n",
    "from selenium.webdriver.common.by import By\n",
    "chrome_options = webdriver.ChromeOptions()\n",
    "driver = webdriver.Chrome(\"chromedriver.exe\",options=chrome_options)\n",
    "driver.get(\"http://www.google.com/\")\n",
    "google_field = driver.find_element(By.NAME,\"q\")\n",
    "google_field.send_keys(\"salman\")\n",
    "time.sleep(2)\n",
    "driver.close()\n",
    "driver.quit()"
   ]
  },
  {
   "cell_type": "code",
   "execution_count": 26,
   "id": "34cdc9c7",
   "metadata": {},
   "outputs": [
    {
     "name": "stderr",
     "output_type": "stream",
     "text": [
      "C:\\ProgramData\\Anaconda3\\lib\\site-packages\\ipykernel_launcher.py:4: DeprecationWarning: executable_path has been deprecated, please pass in a Service object\n",
      "  after removing the cwd from sys.path.\n"
     ]
    }
   ],
   "source": [
    "#ALERT CODE\n",
    "\n",
    "chrome_options = webdriver.ChromeOptions()\n",
    "driver = webdriver.Chrome(\"chromedriver.exe\",options=chrome_options)\n",
    "driver.get(\"http://demo.automationtesting.in/Alerts.html\")\n",
    "time.sleep(5)\n",
    "d = driver.find_element(By.CLASS_NAME,'btn-danger')\n",
    "d.click()\n",
    "alert = driver.switch_to.alert\n",
    "\n",
    "alert.accept()"
   ]
  },
  {
   "cell_type": "code",
   "execution_count": 25,
   "id": "6d858fe1",
   "metadata": {},
   "outputs": [
    {
     "name": "stderr",
     "output_type": "stream",
     "text": [
      "C:\\ProgramData\\Anaconda3\\lib\\site-packages\\ipykernel_launcher.py:5: DeprecationWarning: executable_path has been deprecated, please pass in a Service object\n",
      "  \"\"\"\n"
     ]
    }
   ],
   "source": [
    "#CREAT ACCOUNT\n",
    "\n",
    "from selenium import webdriver\n",
    "from selenium.webdriver.common.by import By\n",
    "browser = webdriver.Chrome(\"chromedriver.exe\")\n",
    "browser.get('file:///C:/Users/lab.NUISB/Downloads/CreateAccount.htm')\n",
    "FName = browser.find_element(By.XPATH,'/html/body/p[2]/input').send_keys(\"Shafiq\")\n",
    "MName = browser.find_element(By.XPATH,'/html/body/p[3]/input').send_keys(\"ur rehman\")\n",
    "LName = browser.find_element(By.XPATH,'/html/body/p[4]/input').send_keys(\"Qureshi\")\n",
    "Adress = browser.find_element(By.XPATH,'/html/body/p[5]/textarea').send_keys(\"Rawalpindi Islamabad Near 6th road\")\n",
    "City = browser.find_element(By.XPATH,'/html/body/p[6]/select').send_keys(\"Rawalpindi\")\n",
    "State = browser.find_element(By.XPATH,'/html/body/p[7]/select').send_keys(\"Punjab\")\n",
    "Country = browser.find_element(By.XPATH,'/html/body/p[8]/select').send_keys(\"Pakistan\")\n",
    "Gender = browser.find_element(By.XPATH,'/html/body/p[9]/input[1]').click()"
   ]
  },
  {
   "cell_type": "code",
   "execution_count": 24,
   "id": "c20b7207",
   "metadata": {},
   "outputs": [
    {
     "name": "stderr",
     "output_type": "stream",
     "text": [
      "C:\\ProgramData\\Anaconda3\\lib\\site-packages\\ipykernel_launcher.py:8: DeprecationWarning: executable_path has been deprecated, please pass in a Service object\n",
      "  \n",
      "C:\\ProgramData\\Anaconda3\\lib\\site-packages\\ipykernel_launcher.py:9: DeprecationWarning: executable_path has been deprecated, please pass in a Service object\n",
      "  if __name__ == '__main__':\n"
     ]
    }
   ],
   "source": [
    "#DOUBLE CLICK\n",
    "\n",
    "from selenium import webdriver\n",
    "from selenium.webdriver.common.by import By\n",
    "from selenium.webdriver.common.action_chains import ActionChains\n",
    "\n",
    "# Creating an instance webdriver\n",
    "driver = webdriver.Chrome(\"chromedriver.exe\")\n",
    "driver = webdriver.Chrome(\"chromedriver.exe\")\n",
    "driver.get(\"file:///C:/Users/lab.NUISB/Downloads/DoubleClick.html\")\n",
    "click = driver.find_element(By.XPATH,'/html/body/button')\n",
    "\n",
    "action = ActionChains(driver)\n",
    "  \n",
    "# double click the item\n",
    "action.double_click(on_element = click)\n",
    "  \n",
    "# perform the operation\n",
    "action.perform()"
   ]
  },
  {
   "cell_type": "code",
   "execution_count": 27,
   "id": "655f3cbe",
   "metadata": {},
   "outputs": [
    {
     "name": "stderr",
     "output_type": "stream",
     "text": [
      "C:\\ProgramData\\Anaconda3\\lib\\site-packages\\ipykernel_launcher.py:6: DeprecationWarning: executable_path has been deprecated, please pass in a Service object\n",
      "  \n"
     ]
    },
    {
     "name": "stdout",
     "output_type": "stream",
     "text": [
      "item 5 was found\n"
     ]
    }
   ],
   "source": [
    "#context click\n",
    "\n",
    "from selenium import webdriver\n",
    "from selenium.webdriver.common.by import By\n",
    "from selenium.webdriver.common.action_chains import ActionChains\n",
    "driver = webdriver.Chrome(\"chromedriver.exe\")\n",
    "driver.get(\"file:///C:/Users/lab.NUISB/Downloads/ContextClick.html\")\n",
    "click = driver.find_element(By.XPATH,'/html/body/div')\n",
    "\n",
    "action = ActionChains(driver)\n",
    "action.context_click(click).perform()\n",
    "item = driver.find_element(By.NAME,'Item 5')\n",
    "if item:\n",
    "    print(\"item 5 was found\")"
   ]
  },
  {
   "cell_type": "code",
   "execution_count": 18,
   "id": "a4b9c99e",
   "metadata": {},
   "outputs": [
    {
     "name": "stderr",
     "output_type": "stream",
     "text": [
      "C:\\ProgramData\\Anaconda3\\lib\\site-packages\\ipykernel_launcher.py:14: DeprecationWarning: executable_path has been deprecated, please pass in a Service object\n",
      "  \n"
     ]
    },
    {
     "name": "stdout",
     "output_type": "stream",
     "text": [
      "Encountered MissingSchema Exception\n",
      "Status of https://demoqa.com/ is 200\n",
      "Status of http://demoqa.com/ is 301\n",
      "Encountered Some other execption\n",
      "Encountered Some other execption\n",
      "Detection of broken links completed with 0 broken links and 2 valid links\n"
     ]
    }
   ],
   "source": [
    "#BROKEN LINK\n",
    "\n",
    "import requests\n",
    "import urllib3\n",
    "from requests.exceptions import MissingSchema, InvalidSchema, InvalidURL\n",
    "from selenium import webdriver\n",
    "from selenium.webdriver.common.by import By\n",
    "from selenium.webdriver.support.ui import WebDriverWait\n",
    "from selenium.webdriver.support import expected_conditions as EC\n",
    "from selenium.webdriver.common.keys import Keys\n",
    "broken_links = 0\n",
    "valid_links = 0\n",
    "\n",
    "driver = webdriver.Chrome(\"chromedriver.exe\")\n",
    "driver.maximize_window()\n",
    "driver.get('https://demoqa.com/broken')\n",
    " \n",
    "# links = driver.find_elements_by_css_selector(\"a\")\n",
    "links = driver.find_elements(By.CSS_SELECTOR, \"a\")\n",
    " \n",
    "for link in links:\n",
    "    try:\n",
    "        request = requests.head(link.get_attribute('href'), data ={'key':'value'})\n",
    "        print(\"Status of \" + link.get_attribute('href') + \" is \" + str(request.status_code))\n",
    "        if (request.status_code == 404):\n",
    "            broken_links = (broken_links + 1)\n",
    "        else:\n",
    "            valid_links = (valid_links + 1)\n",
    "    except requests.exceptions.MissingSchema:\n",
    "        print(\"Encountered MissingSchema Exception\")\n",
    "    except requests.exceptions.InvalidSchema:\n",
    "        print(\"Encountered InvalidSchema Exception\")     \n",
    "    except:\n",
    "        print(\"Encountered Some other execption\")\n",
    " \n",
    "print(\"Detection of broken links completed with \" + str(broken_links) + \" broken links and \" + str(valid_links) + \" valid links\")"
   ]
  },
  {
   "cell_type": "code",
   "execution_count": 17,
   "id": "31efe8e0",
   "metadata": {},
   "outputs": [
    {
     "name": "stdout",
     "output_type": "stream",
     "text": [
      "jQuery UI Droppable - Default functionality\n"
     ]
    }
   ],
   "source": [
    "# Code for Drag and Drops\n",
    "\n",
    "browser = webdriver.Chrome()\n",
    "browser.maximize_window()\n",
    "browser.get(\"file:///C:/Users/lab.NUISB/Downloads/DragAndDrop.html\")\n",
    "browser.implicitly_wait(5)\n",
    "print(browser.title)\n",
    "\n",
    "\n",
    "source_element = browser.find_element(By.XPATH, \"/html/body/div[1]/p\")\n",
    "target_element = browser.find_element(By.XPATH,\"/html/body/div[2]\")\n",
    "actions = ActionChains(browser)\n",
    "actions.drag_and_drop(source_element,target_element).perform()"
   ]
  },
  {
   "cell_type": "code",
   "execution_count": 16,
   "id": "15eef0c9",
   "metadata": {},
   "outputs": [
    {
     "name": "stderr",
     "output_type": "stream",
     "text": [
      "C:\\ProgramData\\Anaconda3\\lib\\site-packages\\ipykernel_launcher.py:9: DeprecationWarning: executable_path has been deprecated, please pass in a Service object\n",
      "  if __name__ == '__main__':\n"
     ]
    }
   ],
   "source": [
    "#Drag me\n",
    "from xml.dom.minidom import Element\n",
    "from selenium import webdriver\n",
    "from selenium.webdriver.common.by import By\n",
    "from selenium.webdriver.common.action_chains import ActionChains\n",
    "import time\n",
    "\n",
    "chrome_options = webdriver.ChromeOptions()\n",
    "driver = webdriver.Chrome(\"chromedriver.exe\",options = chrome_options)\n",
    "driver.get(\"file:///C:/Users/lab.NUISB/Downloads/DragMe.html\")\n",
    "\n",
    "element = driver.find_element(\"id\",\"draggable\")\n",
    "\n",
    "action = ActionChains(driver)\n",
    "\n",
    "action.drag_and_drop_by_offset(element, 200, 300).perform()\n",
    "time.sleep(3)\n",
    "driver.close()"
   ]
  },
  {
   "cell_type": "code",
   "execution_count": 31,
   "id": "30a88057",
   "metadata": {
    "scrolled": true
   },
   "outputs": [
    {
     "name": "stderr",
     "output_type": "stream",
     "text": [
      "C:\\ProgramData\\Anaconda3\\lib\\site-packages\\ipykernel_launcher.py:10: DeprecationWarning: executable_path has been deprecated, please pass in a Service object\n",
      "  # Remove the CWD from sys.path while we load stuff.\n"
     ]
    }
   ],
   "source": [
    "#Selectable\n",
    "\n",
    "from xml.dom.minidom import Element\n",
    "from selenium import webdriver\n",
    "from selenium.webdriver.common.by import By\n",
    "from selenium.webdriver.common.action_chains import ActionChains\n",
    "import time\n",
    "\n",
    "chrome_options = webdriver.ChromeOptions()\n",
    "driver = webdriver.Chrome(\"chromedriver.exe\",options = chrome_options)\n",
    "driver.get(\"file:///C:/Users/lab.NUISB/Downloads/Selectable.html\")\n",
    "\n",
    "\n",
    "element1 = driver.find_element(\"name\",\"seven\")\n",
    "element2 = driver.find_element(\"name\",\"one\")\n",
    "\n",
    "\n",
    "action = ActionChains(driver)\n",
    "\n",
    "\n",
    "action.click(element1).perform()\n",
    "time.sleep(5)\n",
    "action.click(element2).perform()\n",
    "\n",
    "\n",
    "time.sleep(6)\n",
    "driver.close()"
   ]
  },
  {
   "cell_type": "code",
   "execution_count": 14,
   "id": "0757b3c2",
   "metadata": {},
   "outputs": [
    {
     "name": "stderr",
     "output_type": "stream",
     "text": [
      "C:\\ProgramData\\Anaconda3\\lib\\site-packages\\ipykernel_launcher.py:10: DeprecationWarning: executable_path has been deprecated, please pass in a Service object\n",
      "  # Remove the CWD from sys.path while we load stuff.\n"
     ]
    }
   ],
   "source": [
    "#Sortable\n",
    "\n",
    "from xml.dom.minidom import Element\n",
    "from selenium import webdriver\n",
    "from selenium.webdriver.common.by import By\n",
    "from selenium.webdriver.common.action_chains import ActionChains\n",
    "import time\n",
    "\n",
    "chrome_options = webdriver.ChromeOptions()\n",
    "driver = webdriver.Chrome(\"chromedriver.exe\",options = chrome_options)\n",
    "driver.get(\"file:///C:/Users/lab.NUISB/Downloads/Sortable.html\")\n",
    "\n",
    "src = driver.find_element(\"name\",\"two\")\n",
    "dest = driver.find_element(\"name\",\"three\")\n",
    "\n",
    "\n",
    "action = ActionChains(driver)\n",
    "\n",
    "action.drag_and_drop(src, dest).perform()\n",
    "\n",
    "time.sleep(2)\n",
    "driver.close()"
   ]
  },
  {
   "cell_type": "code",
   "execution_count": 10,
   "id": "c0ad7738",
   "metadata": {},
   "outputs": [
    {
     "name": "stderr",
     "output_type": "stream",
     "text": [
      "C:\\ProgramData\\Anaconda3\\lib\\site-packages\\ipykernel_launcher.py:10: DeprecationWarning: executable_path has been deprecated, please pass in a Service object\n",
      "  # Remove the CWD from sys.path while we load stuff.\n"
     ]
    }
   ],
   "source": [
    "#windows\n",
    "\n",
    "from xml.dom.minidom import Element\n",
    "from selenium import webdriver\n",
    "from selenium.webdriver.common.by import By\n",
    "from selenium.webdriver.common.action_chains import ActionChains\n",
    "import time\n",
    "\n",
    "chrome_options = webdriver.ChromeOptions()\n",
    "driver = webdriver.Chrome(\"chromedriver.exe\",options = chrome_options)\n",
    "driver.get(\"file:///C:/Users/lab.NUISB/Downloads/Window.html\")\n",
    "\n",
    "element = driver.find_element(By.TAG_NAME, \"a\")\n",
    "\n",
    "action = ActionChains(driver)\n",
    "\n",
    "action.click(element).perform()\n",
    "\n",
    "time.sleep(2)\n",
    "driver.close()"
   ]
  },
  {
   "cell_type": "code",
   "execution_count": null,
   "id": "d2dd9d2c",
   "metadata": {},
   "outputs": [],
   "source": []
  }
 ],
 "metadata": {
  "kernelspec": {
   "display_name": "Python 3 (ipykernel)",
   "language": "python",
   "name": "python3"
  },
  "language_info": {
   "codemirror_mode": {
    "name": "ipython",
    "version": 3
   },
   "file_extension": ".py",
   "mimetype": "text/x-python",
   "name": "python",
   "nbconvert_exporter": "python",
   "pygments_lexer": "ipython3",
   "version": "3.7.13"
  }
 },
 "nbformat": 4,
 "nbformat_minor": 5
}
