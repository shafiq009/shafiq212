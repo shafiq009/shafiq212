{
 "cells": [
  {
   "cell_type": "code",
   "execution_count": 1,
   "metadata": {},
   "outputs": [
    {
     "name": "stderr",
     "output_type": "stream",
     "text": [
      "C:\\Users\\furm9\\AppData\\Roaming\\Python\\Python37\\site-packages\\ipykernel_launcher.py:5: DeprecationWarning: executable_path has been deprecated, please pass in a Service object\n",
      "  \"\"\"\n"
     ]
    }
   ],
   "source": [
    "import time\n",
    "from selenium import webdriver\n",
    "from selenium.webdriver.common.by import By\n",
    "chrome_options = webdriver.ChromeOptions()\n",
    "driver = webdriver.Chrome(\"chromedriver.exe\",options=chrome_options)\n",
    "driver.get(\"http://localhost/hospital_project/hospital/\")\n",
    "fnamefield = driver.find_element(By.NAME,\"fname\")\n",
    "fnamefield.send_keys(\"fasih\")\n",
    "lnamefield = driver.find_element(By.NAME,\"lname\")\n",
    "lnamefield.send_keys(\"Malik\")\n",
    "emailfield = driver.find_element(By.NAME,\"email\")\n",
    "emailfield.send_keys(\"furm99@gmail.com\")\n",
    "passwordfield = driver.find_element(By.NAME,\"password\")\n",
    "passwordfield.send_keys(\"fasih99\")\n",
    "contactfield = driver.find_element(By.NAME, \"contact\")\n",
    "contactfield.send_keys(\"0123456789\")\n",
    "cpasswordfield = driver.find_element(By.NAME,\"cpassword\")\n",
    "cpasswordfield.send_keys(\"fasih99\")\n",
    "genderfield = driver.find_element(By.XPATH,\"/html/body/div/div/div[2]/div/div[1]/form/div/div[1]/div[4]/div/label[2]/input\")\n",
    "genderfield.click()\n",
    "registerbtn = driver.find_element(By.NAME,\"patsub1\")\n",
    "registerbtn.click()\n",
    "time.sleep(2)\n",
    "driver.close()\n",
    "driver.quit()"
   ]
  },
  {
   "cell_type": "code",
   "execution_count": 14,
   "metadata": {},
   "outputs": [
    {
     "name": "stderr",
     "output_type": "stream",
     "text": [
      "C:\\Users\\furm9\\AppData\\Roaming\\Python\\Python37\\site-packages\\ipykernel_launcher.py:5: DeprecationWarning: executable_path has been deprecated, please pass in a Service object\n",
      "  \"\"\"\n"
     ]
    },
    {
     "name": "stdout",
     "output_type": "stream",
     "text": [
      "Message sent successfully!\n"
     ]
    }
   ],
   "source": [
    "import time\n",
    "from selenium import webdriver\n",
    "from selenium.webdriver.common.by import By\n",
    "chrome_options = webdriver.ChromeOptions()\n",
    "driver = webdriver.Chrome(\"chromedriver.exe\",options=chrome_options)\n",
    "driver.get(\"http://localhost/hospital_project/hospital/contact.html\")\n",
    "driver.maximize_window()\n",
    "\n",
    "txtnamefield = driver.find_element(By.NAME, \"txtName\")\n",
    "txtnamefield.send_keys(\"fasih\")\n",
    "txtemailfield = driver.find_element(By.NAME, \"txtEmail\")\n",
    "txtemailfield.send_keys(\"furm99@gmail.com\")\n",
    "txtphonefield = driver.find_element(By.NAME, \"txtPhone\")\n",
    "txtphonefield.send_keys(\"0123456789\")\n",
    "txtmsgfield = driver.find_element(By.NAME, \"txtMsg\")\n",
    "txtmsgfield.send_keys(\"this is a message!\")\n",
    "submitbtn = driver.find_element(By.NAME, \"btnSubmit\")\n",
    "time.sleep(2)\n",
    "submitbtn.click()\n",
    "time.sleep(2)\n",
    "try:\n",
    "    alert = driver.switch_to.alert\n",
    "    time.sleep(2)\n",
    "    print(alert.text)\n",
    "    alert.accept()\n",
    "    time.sleep(2)\n",
    "except:\n",
    "    print(\"alert not founc\")\n",
    "driver.close()\n",
    "driver.quit()"
   ]
  },
  {
   "cell_type": "code",
   "execution_count": 15,
   "metadata": {},
   "outputs": [
    {
     "name": "stderr",
     "output_type": "stream",
     "text": [
      "C:\\Users\\furm9\\AppData\\Roaming\\Python\\Python37\\site-packages\\ipykernel_launcher.py:5: DeprecationWarning: executable_path has been deprecated, please pass in a Service object\n",
      "  \"\"\"\n"
     ]
    },
    {
     "name": "stdout",
     "output_type": "stream",
     "text": [
      "alert not founc\n"
     ]
    }
   ],
   "source": [
    "import time\n",
    "from selenium import webdriver\n",
    "from selenium.webdriver.common.by import By\n",
    "chrome_options = webdriver.ChromeOptions()\n",
    "driver = webdriver.Chrome(\"chromedriver.exe\",options=chrome_options)\n",
    "driver.get(\"http://localhost/hospital_project/hospital/contact.html\")\n",
    "driver.maximize_window()\n",
    "\n",
    "txtnamefield = driver.find_element(By.NAME, \"txtName\")\n",
    "#txtnamefield.send_keys(\"fasih\")\n",
    "txtemailfield = driver.find_element(By.NAME, \"txtEmail\")\n",
    "txtemailfield.send_keys(\"furm99@gmail.com\")\n",
    "txtphonefield = driver.find_element(By.NAME, \"txtPhone\")\n",
    "txtphonefield.send_keys(\"0123456789\")\n",
    "txtmsgfield = driver.find_element(By.NAME, \"txtMsg\")\n",
    "txtmsgfield.send_keys(\"this is a message!\")\n",
    "submitbtn = driver.find_element(By.NAME, \"btnSubmit\")\n",
    "time.sleep(2)\n",
    "submitbtn.click()\n",
    "time.sleep(2)\n",
    "try:\n",
    "    alert = driver.switch_to.alert\n",
    "    time.sleep(2)\n",
    "    print(alert.text)\n",
    "    alert.accept()\n",
    "    time.sleep(2)\n",
    "except:\n",
    "    print(\"alert not founc\")\n",
    "driver.close()\n",
    "driver.quit()"
   ]
  },
  {
   "cell_type": "code",
   "execution_count": 19,
   "metadata": {},
   "outputs": [
    {
     "name": "stderr",
     "output_type": "stream",
     "text": [
      "C:\\Users\\furm9\\AppData\\Roaming\\Python\\Python37\\site-packages\\ipykernel_launcher.py:5: DeprecationWarning: executable_path has been deprecated, please pass in a Service object\n",
      "  \"\"\"\n"
     ]
    },
    {
     "name": "stdout",
     "output_type": "stream",
     "text": [
      "alert not founc\n",
      "Test successful\n"
     ]
    }
   ],
   "source": [
    "import time\n",
    "from selenium import webdriver\n",
    "from selenium.webdriver.common.by import By\n",
    "chrome_options = webdriver.ChromeOptions()\n",
    "driver = webdriver.Chrome(\"chromedriver.exe\",options=chrome_options)\n",
    "driver.get(\"http://localhost/hospital_project/hospital/\")\n",
    "driver.maximize_window()\n",
    "\n",
    "doctorbtn = driver.find_element(By.XPATH, \"/html/body/div/div/div[2]/ul/li[2]/a\")\n",
    "doctorbtn.click()\n",
    "time.sleep(1)\n",
    "username3field = driver.find_element(By.XPATH, \"/html/body/div/div/div[2]/div/div[2]/form/div/div[1]/div/input\")\n",
    "username3field.send_keys(\"salman\")\n",
    "password3field = driver.find_element(By.XPATH, \"/html/body/div/div/div[2]/div/div[2]/form/div/div[2]/div/input\")\n",
    "password3field.send_keys(\"salman123\")\n",
    "docsubbtn = driver.find_element(By.NAME, \"docsub1\")\n",
    "time.sleep(1)\n",
    "docsubbtn.click()\n",
    "try:\n",
    "    alert = driver.switch_to.alert\n",
    "    time.sleep(2)\n",
    "    print(alert.text)\n",
    "    alert.accept()\n",
    "    time.sleep(2)\n",
    "except:\n",
    "    print(\"alert not founc\")\n",
    "    current_url = driver.current_url\n",
    "    try:\n",
    "        assert current_url == \"http://localhost/hospital_project/hospital/doctor-panel.php\"\n",
    "        print(\"Test successful\")\n",
    "    except AssertionError:\n",
    "        print(\"user not logged in\")\n",
    "driver.close()\n",
    "driver.quit()"
   ]
  },
  {
   "cell_type": "code",
   "execution_count": 20,
   "metadata": {},
   "outputs": [
    {
     "name": "stderr",
     "output_type": "stream",
     "text": [
      "C:\\Users\\furm9\\AppData\\Roaming\\Python\\Python37\\site-packages\\ipykernel_launcher.py:5: DeprecationWarning: executable_path has been deprecated, please pass in a Service object\n",
      "  \"\"\"\n"
     ]
    },
    {
     "name": "stdout",
     "output_type": "stream",
     "text": [
      "Invalid Username or Password. Try Again!\n"
     ]
    }
   ],
   "source": [
    "import time\n",
    "from selenium import webdriver\n",
    "from selenium.webdriver.common.by import By\n",
    "chrome_options = webdriver.ChromeOptions()\n",
    "driver = webdriver.Chrome(\"chromedriver.exe\",options=chrome_options)\n",
    "driver.get(\"http://localhost/hospital_project/hospital/\")\n",
    "driver.maximize_window()\n",
    "\n",
    "doctorbtn = driver.find_element(By.XPATH, \"/html/body/div/div/div[2]/ul/li[2]/a\")\n",
    "doctorbtn.click()\n",
    "time.sleep(1)\n",
    "username3field = driver.find_element(By.XPATH, \"/html/body/div/div/div[2]/div/div[2]/form/div/div[1]/div/input\")\n",
    "username3field.send_keys(\"salma\")\n",
    "password3field = driver.find_element(By.XPATH, \"/html/body/div/div/div[2]/div/div[2]/form/div/div[2]/div/input\")\n",
    "password3field.send_keys(\"salman123\")\n",
    "docsubbtn = driver.find_element(By.NAME, \"docsub1\")\n",
    "time.sleep(1)\n",
    "docsubbtn.click()\n",
    "try:\n",
    "    alert = driver.switch_to.alert\n",
    "    time.sleep(2)\n",
    "    print(alert.text)\n",
    "    alert.accept()\n",
    "    time.sleep(2)\n",
    "except:\n",
    "    print(\"alert not founc\")\n",
    "    current_url = driver.current_url\n",
    "    try:\n",
    "        assert current_url == \"http://localhost/hospital_project/hospital/doctor-panel.php\"\n",
    "        print(\"Test successful\")\n",
    "    except AssertionError:\n",
    "        print(\"user not logged in\")\n",
    "driver.close()\n",
    "driver.quit()"
   ]
  },
  {
   "cell_type": "code",
   "execution_count": 22,
   "metadata": {},
   "outputs": [
    {
     "name": "stderr",
     "output_type": "stream",
     "text": [
      "C:\\Users\\furm9\\AppData\\Roaming\\Python\\Python37\\site-packages\\ipykernel_launcher.py:5: DeprecationWarning: executable_path has been deprecated, please pass in a Service object\n",
      "  \"\"\"\n"
     ]
    },
    {
     "name": "stdout",
     "output_type": "stream",
     "text": [
      "alert not founc\n",
      "Test successful\n"
     ]
    }
   ],
   "source": [
    "import time\n",
    "from selenium import webdriver\n",
    "from selenium.webdriver.common.by import By\n",
    "chrome_options = webdriver.ChromeOptions()\n",
    "driver = webdriver.Chrome(\"chromedriver.exe\",options=chrome_options)\n",
    "driver.get(\"http://localhost/hospital_project/hospital/\")\n",
    "driver.maximize_window()\n",
    "\n",
    "doctorbtn = driver.find_element(By.XPATH, \"/html/body/div/div/div[2]/ul/li[3]/a\")\n",
    "doctorbtn.click()\n",
    "time.sleep(1)\n",
    "username1field = driver.find_element(By.NAME, \"username1\")\n",
    "username1field.send_keys(\"admin\")\n",
    "password2field = driver.find_element(By.NAME, \"password2\")\n",
    "password2field.send_keys(\"admin123\")\n",
    "docsubbtn = driver.find_element(By.NAME, \"adsub\")\n",
    "time.sleep(1)\n",
    "docsubbtn.click()\n",
    "time.sleep(2)\n",
    "try:\n",
    "    alert = driver.switch_to.alert\n",
    "    time.sleep(2)\n",
    "    print(alert.text)\n",
    "    alert.accept()\n",
    "    time.sleep(2)\n",
    "except:\n",
    "    print(\"alert not founc\")\n",
    "    try:\n",
    "        current_url = driver.current_url\n",
    "        assert current_url == \"http://localhost/hospital_project/hospital/admin-panel1.php\"\n",
    "        print(\"Test successful\")\n",
    "    except AssertionError:\n",
    "        print(\"user not logged in\")\n",
    "driver.close()\n",
    "driver.quit()"
   ]
  },
  {
   "cell_type": "code",
   "execution_count": 23,
   "metadata": {},
   "outputs": [
    {
     "name": "stderr",
     "output_type": "stream",
     "text": [
      "C:\\Users\\furm9\\AppData\\Roaming\\Python\\Python37\\site-packages\\ipykernel_launcher.py:5: DeprecationWarning: executable_path has been deprecated, please pass in a Service object\n",
      "  \"\"\"\n"
     ]
    },
    {
     "name": "stdout",
     "output_type": "stream",
     "text": [
      "Invalid Username or Password. Try Again!\n"
     ]
    }
   ],
   "source": [
    "import time\n",
    "from selenium import webdriver\n",
    "from selenium.webdriver.common.by import By\n",
    "chrome_options = webdriver.ChromeOptions()\n",
    "driver = webdriver.Chrome(\"chromedriver.exe\",options=chrome_options)\n",
    "driver.get(\"http://localhost/hospital_project/hospital/\")\n",
    "driver.maximize_window()\n",
    "\n",
    "doctorbtn = driver.find_element(By.XPATH, \"/html/body/div/div/div[2]/ul/li[3]/a\")\n",
    "doctorbtn.click()\n",
    "time.sleep(1)\n",
    "username1field = driver.find_element(By.NAME, \"username1\")\n",
    "username1field.send_keys(\"admi\")\n",
    "password2field = driver.find_element(By.NAME, \"password2\")\n",
    "password2field.send_keys(\"admin123\")\n",
    "docsubbtn = driver.find_element(By.NAME, \"adsub\")\n",
    "time.sleep(1)\n",
    "docsubbtn.click()\n",
    "time.sleep(2)\n",
    "try:\n",
    "    alert = driver.switch_to.alert\n",
    "    time.sleep(2)\n",
    "    print(alert.text)\n",
    "    alert.accept()\n",
    "    time.sleep(2)\n",
    "except:\n",
    "    print(\"alert not founc\")\n",
    "    try:\n",
    "        current_url = driver.current_url\n",
    "        assert current_url == \"http://localhost/hospital_project/hospital/admin-panel1.php\"\n",
    "        print(\"Test successful\")\n",
    "    except AssertionError:\n",
    "        print(\"user not logged in\")\n",
    "driver.close()\n",
    "driver.quit()"
   ]
  },
  {
   "cell_type": "code",
   "execution_count": 25,
   "metadata": {},
   "outputs": [
    {
     "name": "stderr",
     "output_type": "stream",
     "text": [
      "C:\\Users\\furm9\\AppData\\Roaming\\Python\\Python37\\site-packages\\ipykernel_launcher.py:5: DeprecationWarning: executable_path has been deprecated, please pass in a Service object\n",
      "  \"\"\"\n"
     ]
    },
    {
     "name": "stdout",
     "output_type": "stream",
     "text": [
      "http://localhost/hospital_project/hospital/index1.php reached before form filling\n",
      "Invalid Username or Password. Try Again!\n"
     ]
    }
   ],
   "source": [
    "import time\n",
    "from selenium import webdriver\n",
    "from selenium.webdriver.common.by import By\n",
    "chrome_options = webdriver.ChromeOptions()\n",
    "driver = webdriver.Chrome(\"chromedriver.exe\",options=chrome_options)\n",
    "driver.get(\"http://localhost/hospital_project/hospital/\")\n",
    "driver.maximize_window()\n",
    "\n",
    "alreadyuserlink = driver.find_element(By.XPATH, \"/html/body/div/div/div[2]/div/div[1]/form/div/div[1]/div[4]/a\")\n",
    "alreadyuserlink.click()\n",
    "current_url = driver.current_url\n",
    "print(current_url+\" reached before form filling\")\n",
    "emailfield = driver.find_element(By.NAME, \"email\")\n",
    "emailfield.send_keys(\"saad\")\n",
    "password2field = driver.find_element(By.NAME,\"password2\")\n",
    "password2field.send_keys(\"lina\")\n",
    "inputbtn = driver.find_element(By.ID, \"inputbtn\")\n",
    "time.sleep(2)\n",
    "inputbtn.click()\n",
    "time.sleep(2)\n",
    "try:\n",
    "    alert = driver.switch_to.alert\n",
    "    time.sleep(2)\n",
    "    print(alert.text)\n",
    "    alert.accept()\n",
    "    time.sleep(2)\n",
    "except:\n",
    "    print(\"alert not founc\")\n",
    "    try:\n",
    "        current_url = driver.current_url\n",
    "        assert current_url == \"http://localhost/hospital_project/hospital/admin-panel.php\"\n",
    "        print(\"Test successful\")\n",
    "    except AssertionError:\n",
    "        print(\"user not logged in\")\n",
    "driver.close()\n",
    "driver.quit()"
   ]
  },
  {
   "cell_type": "code",
   "execution_count": 26,
   "metadata": {},
   "outputs": [
    {
     "name": "stderr",
     "output_type": "stream",
     "text": [
      "C:\\Users\\furm9\\AppData\\Roaming\\Python\\Python37\\site-packages\\ipykernel_launcher.py:5: DeprecationWarning: executable_path has been deprecated, please pass in a Service object\n",
      "  \"\"\"\n"
     ]
    },
    {
     "name": "stdout",
     "output_type": "stream",
     "text": [
      "http://localhost/hospital_project/hospital/index1.php reached before form filling\n",
      "alert not founc\n",
      "Test successful\n"
     ]
    }
   ],
   "source": [
    "import time\n",
    "from selenium import webdriver\n",
    "from selenium.webdriver.common.by import By\n",
    "chrome_options = webdriver.ChromeOptions()\n",
    "driver = webdriver.Chrome(\"chromedriver.exe\",options=chrome_options)\n",
    "driver.get(\"http://localhost/hospital_project/hospital/\")\n",
    "driver.maximize_window()\n",
    "\n",
    "alreadyuserlink = driver.find_element(By.XPATH, \"/html/body/div/div/div[2]/div/div[1]/form/div/div[1]/div[4]/a\")\n",
    "alreadyuserlink.click()\n",
    "current_url = driver.current_url\n",
    "print(current_url+\" reached before form filling\")\n",
    "emailfield = driver.find_element(By.NAME, \"email\")\n",
    "emailfield.send_keys(\"furm99@gmail.com\")\n",
    "password2field = driver.find_element(By.NAME,\"password2\")\n",
    "password2field.send_keys(\"fasih99\")\n",
    "inputbtn = driver.find_element(By.ID, \"inputbtn\")\n",
    "time.sleep(2)\n",
    "inputbtn.click()\n",
    "time.sleep(2)\n",
    "try:\n",
    "    alert = driver.switch_to.alert\n",
    "    time.sleep(2)\n",
    "    print(alert.text)\n",
    "    alert.accept()\n",
    "    time.sleep(2)\n",
    "except:\n",
    "    print(\"alert not founc\")\n",
    "    try:\n",
    "        current_url = driver.current_url\n",
    "        assert current_url == \"http://localhost/hospital_project/hospital/admin-panel.php\"\n",
    "        print(\"Test successful\")\n",
    "    except AssertionError:\n",
    "        print(\"user not logged in\")\n",
    "driver.close()\n",
    "driver.quit()"
   ]
  },
  {
   "cell_type": "code",
   "execution_count": 4,
   "metadata": {},
   "outputs": [
    {
     "name": "stderr",
     "output_type": "stream",
     "text": [
      "C:\\Users\\furm9\\AppData\\Roaming\\Python\\Python37\\site-packages\\ipykernel_launcher.py:5: DeprecationWarning: executable_path has been deprecated, please pass in a Service object\n",
      "  \"\"\"\n"
     ]
    },
    {
     "name": "stdout",
     "output_type": "stream",
     "text": [
      "URL not http://localhost/hospital_project/hospital/services.html\n",
      "alert not founc\n"
     ]
    }
   ],
   "source": [
    "import time\n",
    "from selenium import webdriver\n",
    "from selenium.webdriver.common.by import By\n",
    "chrome_options = webdriver.ChromeOptions()\n",
    "driver = webdriver.Chrome(\"chromedriver.exe\",options=chrome_options)\n",
    "driver.get(\"http://localhost/hospital_project/hospital/\")\n",
    "driver.maximize_window()\n",
    "\n",
    "servicesbtn = driver.find_element(By.XPATH, \"/html/body/nav/div/div/ul/li[2]/a\")\n",
    "servicesbtn.click()\n",
    "time.sleep(2)\n",
    "current_url = driver.current_url\n",
    "try:\n",
    "    assert current_url == \"http://localhost/hospital_project/hospital/services.htm\"\n",
    "    print(\"testcase true\")\n",
    "except AssertionError:\n",
    "    print(\"URL not http://localhost/hospital_project/hospital/services.html\")\n",
    "try:\n",
    "    alert = driver.switch_to.alert\n",
    "    time.sleep(2)\n",
    "    alert.accept()\n",
    "    time.sleep(2)\n",
    "except:\n",
    "    print(\"alert not founc\")\n",
    "driver.close()\n",
    "driver.quit()"
   ]
  },
  {
   "cell_type": "code",
   "execution_count": 5,
   "metadata": {},
   "outputs": [
    {
     "name": "stderr",
     "output_type": "stream",
     "text": [
      "C:\\Users\\furm9\\AppData\\Roaming\\Python\\Python37\\site-packages\\ipykernel_launcher.py:5: DeprecationWarning: executable_path has been deprecated, please pass in a Service object\n",
      "  \"\"\"\n"
     ]
    },
    {
     "name": "stdout",
     "output_type": "stream",
     "text": [
      "testcase true\n",
      "alert not founc\n"
     ]
    }
   ],
   "source": [
    "import time\n",
    "from selenium import webdriver\n",
    "from selenium.webdriver.common.by import By\n",
    "chrome_options = webdriver.ChromeOptions()\n",
    "driver = webdriver.Chrome(\"chromedriver.exe\",options=chrome_options)\n",
    "driver.get(\"http://localhost/hospital_project/hospital/\")\n",
    "driver.maximize_window()\n",
    "\n",
    "servicesbtn = driver.find_element(By.XPATH, \"/html/body/nav/div/div/ul/li[2]/a\")\n",
    "servicesbtn.click()\n",
    "time.sleep(2)\n",
    "current_url = driver.current_url\n",
    "try:\n",
    "    assert current_url == \"http://localhost/hospital_project/hospital/services.html\"\n",
    "    print(\"testcase true\")\n",
    "except AssertionError:\n",
    "    print(\"URL not http://localhost/hospital_project/hospital/services.html\")\n",
    "try:\n",
    "    alert = driver.switch_to.alert\n",
    "    time.sleep(2)\n",
    "    alert.accept()\n",
    "    time.sleep(2)\n",
    "except:\n",
    "    print(\"alert not founc\")\n",
    "driver.close()\n",
    "driver.quit()"
   ]
  },
  {
   "cell_type": "code",
   "execution_count": 2,
   "metadata": {},
   "outputs": [
    {
     "name": "stderr",
     "output_type": "stream",
     "text": [
      "C:\\Users\\furm9\\AppData\\Roaming\\Python\\Python37\\site-packages\\ipykernel_launcher.py:5: DeprecationWarning: executable_path has been deprecated, please pass in a Service object\n",
      "  \"\"\"\n"
     ]
    },
    {
     "name": "stdout",
     "output_type": "stream",
     "text": [
      "testcase true\n",
      "alert not founc\n"
     ]
    }
   ],
   "source": [
    "import time\n",
    "from selenium import webdriver\n",
    "from selenium.webdriver.common.by import By\n",
    "chrome_options = webdriver.ChromeOptions()\n",
    "driver = webdriver.Chrome(\"chromedriver.exe\",options=chrome_options)\n",
    "driver.get(\"http://localhost/hospital_project/hospital/\")\n",
    "driver.maximize_window()\n",
    "\n",
    "servicesbtn = driver.find_element(By.XPATH, \"/html/body/nav/div/div/ul/li[3]/a\")\n",
    "servicesbtn.click()\n",
    "time.sleep(2)\n",
    "current_url = driver.current_url\n",
    "try:\n",
    "    assert current_url == \"http://localhost/hospital_project/hospital/contact.html\"\n",
    "    print(\"testcase true\")\n",
    "except AssertionError:\n",
    "    print(\"URL not http://localhost/hospital_project/hospital/contact.html\")\n",
    "try:\n",
    "    alert = driver.switch_to.alert\n",
    "    time.sleep(2)\n",
    "    alert.accept()\n",
    "    time.sleep(2)\n",
    "except:\n",
    "    print(\"alert not founc\")\n",
    "driver.close()\n",
    "driver.quit()"
   ]
  },
  {
   "cell_type": "code",
   "execution_count": 3,
   "metadata": {},
   "outputs": [
    {
     "name": "stderr",
     "output_type": "stream",
     "text": [
      "C:\\Users\\furm9\\AppData\\Roaming\\Python\\Python37\\site-packages\\ipykernel_launcher.py:5: DeprecationWarning: executable_path has been deprecated, please pass in a Service object\n",
      "  \"\"\"\n"
     ]
    },
    {
     "name": "stdout",
     "output_type": "stream",
     "text": [
      "URL not http://localhost/hospital_project/hospital/services.html\n",
      "alert not founc\n"
     ]
    }
   ],
   "source": [
    "import time\n",
    "from selenium import webdriver\n",
    "from selenium.webdriver.common.by import By\n",
    "chrome_options = webdriver.ChromeOptions()\n",
    "driver = webdriver.Chrome(\"chromedriver.exe\",options=chrome_options)\n",
    "driver.get(\"http://localhost/hospital_project/hospital/\")\n",
    "driver.maximize_window()\n",
    "\n",
    "servicesbtn = driver.find_element(By.XPATH, \"/html/body/nav/div/div/ul/li[3]/a\")\n",
    "servicesbtn.click()\n",
    "time.sleep(2)\n",
    "current_url = driver.current_url\n",
    "try:\n",
    "    assert current_url == \"http://localhost/hospital_project/hospital/contact.hml\"\n",
    "    print(\"testcase true\")\n",
    "except AssertionError:\n",
    "    print(\"URL not http://localhost/hospital_project/hospital/contact.html\")\n",
    "try:\n",
    "    alert = driver.switch_to.alert\n",
    "    time.sleep(2)\n",
    "    alert.accept()\n",
    "    time.sleep(2)\n",
    "except:\n",
    "    print(\"alert not founc\")\n",
    "driver.close()\n",
    "driver.quit()"
   ]
  },
  {
   "cell_type": "code",
   "execution_count": 7,
   "metadata": {},
   "outputs": [
    {
     "name": "stderr",
     "output_type": "stream",
     "text": [
      "C:\\Users\\furm9\\AppData\\Roaming\\Python\\Python37\\site-packages\\ipykernel_launcher.py:5: DeprecationWarning: executable_path has been deprecated, please pass in a Service object\n",
      "  \"\"\"\n"
     ]
    },
    {
     "name": "stdout",
     "output_type": "stream",
     "text": [
      "testcase true\n",
      "alert not founc\n"
     ]
    }
   ],
   "source": [
    "import time\n",
    "from selenium import webdriver\n",
    "from selenium.webdriver.common.by import By\n",
    "chrome_options = webdriver.ChromeOptions()\n",
    "driver = webdriver.Chrome(\"chromedriver.exe\",options=chrome_options)\n",
    "driver.get(\"http://localhost/hospital_project/hospital/\")\n",
    "driver.maximize_window()\n",
    "\n",
    "servicesbtn = driver.find_element(By.XPATH, \"/html/body/nav/div/div/ul/li[1]/a\")\n",
    "servicesbtn.click()\n",
    "time.sleep(2)\n",
    "current_url = driver.current_url\n",
    "try:\n",
    "    assert current_url == \"http://localhost/hospital_project/hospital/index.php\"\n",
    "    print(\"testcase true\")\n",
    "except AssertionError:\n",
    "    print(\"URL not http://localhost/hospital_project/hospital/index.php\")\n",
    "try:\n",
    "    alert = driver.switch_to.alert\n",
    "    time.sleep(2)\n",
    "    alert.accept()\n",
    "    time.sleep(2)\n",
    "except:\n",
    "    print(\"alert not founc\")\n",
    "driver.close()\n",
    "driver.quit()"
   ]
  },
  {
   "cell_type": "code",
   "execution_count": 8,
   "metadata": {},
   "outputs": [
    {
     "name": "stderr",
     "output_type": "stream",
     "text": [
      "C:\\Users\\furm9\\AppData\\Roaming\\Python\\Python37\\site-packages\\ipykernel_launcher.py:5: DeprecationWarning: executable_path has been deprecated, please pass in a Service object\n",
      "  \"\"\"\n"
     ]
    },
    {
     "name": "stdout",
     "output_type": "stream",
     "text": [
      "URL not http://localhost/hospital_project/hospital/index.php\n",
      "alert not founc\n"
     ]
    }
   ],
   "source": [
    "import time\n",
    "from selenium import webdriver\n",
    "from selenium.webdriver.common.by import By\n",
    "chrome_options = webdriver.ChromeOptions()\n",
    "driver = webdriver.Chrome(\"chromedriver.exe\",options=chrome_options)\n",
    "driver.get(\"http://localhost/hospital_project/hospital/\")\n",
    "driver.maximize_window()\n",
    "\n",
    "servicesbtn = driver.find_element(By.XPATH, \"/html/body/nav/div/div/ul/li[1]/a\")\n",
    "servicesbtn.click()\n",
    "time.sleep(2)\n",
    "current_url = driver.current_url\n",
    "try:\n",
    "    assert current_url == \"http://localhost/hospital_project/hospital/index.hp\"\n",
    "    print(\"testcase true\")\n",
    "except AssertionError:\n",
    "    print(\"URL not http://localhost/hospital_project/hospital/index.php\")\n",
    "try:\n",
    "    alert = driver.switch_to.alert\n",
    "    time.sleep(2)\n",
    "    alert.accept()\n",
    "    time.sleep(2)\n",
    "except:\n",
    "    print(\"alert not founc\")\n",
    "driver.close()\n",
    "driver.quit()"
   ]
  },
  {
   "cell_type": "code",
   "execution_count": 9,
   "metadata": {},
   "outputs": [
    {
     "name": "stderr",
     "output_type": "stream",
     "text": [
      "C:\\Users\\furm9\\AppData\\Roaming\\Python\\Python37\\site-packages\\ipykernel_launcher.py:5: DeprecationWarning: executable_path has been deprecated, please pass in a Service object\n",
      "  \"\"\"\n"
     ]
    },
    {
     "name": "stdout",
     "output_type": "stream",
     "text": [
      "testcase true\n",
      "alert not founc\n"
     ]
    }
   ],
   "source": [
    "import time\n",
    "from selenium import webdriver\n",
    "from selenium.webdriver.common.by import By\n",
    "chrome_options = webdriver.ChromeOptions()\n",
    "driver = webdriver.Chrome(\"chromedriver.exe\",options=chrome_options)\n",
    "driver.get(\"http://localhost/hospital_project/hospital/services.html\")\n",
    "driver.maximize_window()\n",
    "\n",
    "servicesbtn = driver.find_element(By.XPATH, \"/html/body/div[1]/div[1]/a\")\n",
    "servicesbtn.click()\n",
    "time.sleep(2)\n",
    "current_url = driver.current_url\n",
    "try:\n",
    "    assert current_url == \"http://localhost/hospital_project/hospital/index.php\"\n",
    "    print(\"testcase true\")\n",
    "except AssertionError:\n",
    "    print(\"URL not http://localhost/hospital_project/hospital/index.php\")\n",
    "try:\n",
    "    alert = driver.switch_to.alert\n",
    "    time.sleep(2)\n",
    "    alert.accept()\n",
    "    time.sleep(2)\n",
    "except:\n",
    "    print(\"alert not founc\")\n",
    "driver.close()\n",
    "driver.quit()"
   ]
  },
  {
   "cell_type": "code",
   "execution_count": 10,
   "metadata": {},
   "outputs": [
    {
     "name": "stderr",
     "output_type": "stream",
     "text": [
      "C:\\Users\\furm9\\AppData\\Roaming\\Python\\Python37\\site-packages\\ipykernel_launcher.py:5: DeprecationWarning: executable_path has been deprecated, please pass in a Service object\n",
      "  \"\"\"\n"
     ]
    },
    {
     "name": "stdout",
     "output_type": "stream",
     "text": [
      "URL not http://localhost/hospital_project/hospital/index.php\n",
      "alert not founc\n"
     ]
    }
   ],
   "source": [
    "import time\n",
    "from selenium import webdriver\n",
    "from selenium.webdriver.common.by import By\n",
    "chrome_options = webdriver.ChromeOptions()\n",
    "driver = webdriver.Chrome(\"chromedriver.exe\",options=chrome_options)\n",
    "driver.get(\"http://localhost/hospital_project/hospital/services.html\")\n",
    "driver.maximize_window()\n",
    "\n",
    "servicesbtn = driver.find_element(By.XPATH, \"/html/body/div[1]/div[1]/a\")\n",
    "servicesbtn.click()\n",
    "time.sleep(2)\n",
    "current_url = driver.current_url\n",
    "try:\n",
    "    assert current_url == \"http://localhost/hospital_project/hospitl/index.php\"\n",
    "    print(\"testcase true\")\n",
    "except AssertionError:\n",
    "    print(\"URL not http://localhost/hospital_project/hospital/index.php\")\n",
    "try:\n",
    "    alert = driver.switch_to.alert\n",
    "    time.sleep(2)\n",
    "    alert.accept()\n",
    "    time.sleep(2)\n",
    "except:\n",
    "    print(\"alert not founc\")\n",
    "driver.close()\n",
    "driver.quit()"
   ]
  },
  {
   "cell_type": "code",
   "execution_count": 12,
   "metadata": {},
   "outputs": [
    {
     "name": "stderr",
     "output_type": "stream",
     "text": [
      "C:\\Users\\furm9\\AppData\\Roaming\\Python\\Python37\\site-packages\\ipykernel_launcher.py:5: DeprecationWarning: executable_path has been deprecated, please pass in a Service object\n",
      "  \"\"\"\n"
     ]
    },
    {
     "name": "stdout",
     "output_type": "stream",
     "text": [
      "testcase true\n",
      "alert not founc\n"
     ]
    }
   ],
   "source": [
    "import time\n",
    "from selenium import webdriver\n",
    "from selenium.webdriver.common.by import By\n",
    "chrome_options = webdriver.ChromeOptions()\n",
    "driver = webdriver.Chrome(\"chromedriver.exe\",options=chrome_options)\n",
    "driver.get(\"http://localhost/hospital_project/hospital/contact.html\")\n",
    "driver.maximize_window()\n",
    "\n",
    "servicesbtn = driver.find_element(By.XPATH, \"/html/body/nav/div/a\")\n",
    "servicesbtn.click()\n",
    "time.sleep(2)\n",
    "current_url = driver.current_url\n",
    "try:\n",
    "    assert current_url == \"http://localhost/hospital_project/hospital/index.php\"\n",
    "    print(\"testcase true\")\n",
    "except AssertionError:\n",
    "    print(\"URL not http://localhost/hospital_project/hospital/index.php\")\n",
    "try:\n",
    "    alert = driver.switch_to.alert\n",
    "    time.sleep(2)\n",
    "    alert.accept()\n",
    "    time.sleep(2)\n",
    "except:\n",
    "    print(\"alert not founc\")\n",
    "driver.close()\n",
    "driver.quit()"
   ]
  },
  {
   "cell_type": "code",
   "execution_count": 13,
   "metadata": {},
   "outputs": [
    {
     "name": "stderr",
     "output_type": "stream",
     "text": [
      "C:\\Users\\furm9\\AppData\\Roaming\\Python\\Python37\\site-packages\\ipykernel_launcher.py:5: DeprecationWarning: executable_path has been deprecated, please pass in a Service object\n",
      "  \"\"\"\n"
     ]
    },
    {
     "name": "stdout",
     "output_type": "stream",
     "text": [
      "URL not http://localhost/hospital_project/hospital/index.php\n",
      "alert not founc\n"
     ]
    }
   ],
   "source": [
    "import time\n",
    "from selenium import webdriver\n",
    "from selenium.webdriver.common.by import By\n",
    "chrome_options = webdriver.ChromeOptions()\n",
    "driver = webdriver.Chrome(\"chromedriver.exe\",options=chrome_options)\n",
    "driver.get(\"http://localhost/hospital_project/hospital/contact.html\")\n",
    "driver.maximize_window()\n",
    "\n",
    "servicesbtn = driver.find_element(By.XPATH, \"/html/body/nav/div/a\")\n",
    "servicesbtn.click()\n",
    "time.sleep(2)\n",
    "current_url = driver.current_url\n",
    "try:\n",
    "    assert current_url == \"http://localhost/hospital_project/hospital/index.ph\"\n",
    "    print(\"testcase true\")\n",
    "except AssertionError:\n",
    "    print(\"URL not http://localhost/hospital_project/hospital/index.php\")\n",
    "try:\n",
    "    alert = driver.switch_to.alert\n",
    "    time.sleep(2)\n",
    "    alert.accept()\n",
    "    time.sleep(2)\n",
    "except:\n",
    "    print(\"alert not founc\")\n",
    "driver.close()\n",
    "driver.quit()"
   ]
  },
  {
   "cell_type": "code",
   "execution_count": 32,
   "metadata": {},
   "outputs": [
    {
     "name": "stderr",
     "output_type": "stream",
     "text": [
      "C:\\Users\\furm9\\AppData\\Roaming\\Python\\Python37\\site-packages\\ipykernel_launcher.py:5: DeprecationWarning: executable_path has been deprecated, please pass in a Service object\n",
      "  \"\"\"\n"
     ]
    },
    {
     "name": "stdout",
     "output_type": "stream",
     "text": [
      "http://localhost/hospital_project/hospital/index1.php reached before form filling\n",
      "alert not founc\n",
      "http://localhost/hospital_project/hospital/admin-panel.php\n",
      "http://localhost/hospital_project/hospital/logout.php\n",
      "http://localhost/hospital_project/hospital/index1.php\n",
      "Test successful\n"
     ]
    }
   ],
   "source": [
    "import time\n",
    "from selenium import webdriver\n",
    "from selenium.webdriver.common.by import By\n",
    "chrome_options = webdriver.ChromeOptions()\n",
    "driver = webdriver.Chrome(\"chromedriver.exe\",options=chrome_options)\n",
    "driver.get(\"http://localhost/hospital_project/hospital/\")\n",
    "driver.maximize_window()\n",
    "\n",
    "alreadyuserlink = driver.find_element(By.XPATH, \"/html/body/div/div/div[2]/div/div[1]/form/div/div[1]/div[4]/a\")\n",
    "alreadyuserlink.click()\n",
    "current_url = driver.current_url\n",
    "print(current_url+\" reached before form filling\")\n",
    "emailfield = driver.find_element(By.NAME, \"email\")\n",
    "emailfield.send_keys(\"furm99@gmail.com\")\n",
    "password2field = driver.find_element(By.NAME,\"password2\")\n",
    "password2field.send_keys(\"fasih99\")\n",
    "inputbtn = driver.find_element(By.ID, \"inputbtn\")\n",
    "time.sleep(2)\n",
    "inputbtn.click()\n",
    "time.sleep(2)\n",
    "try:\n",
    "    alert = driver.switch_to.alert\n",
    "    time.sleep(2)\n",
    "    print(alert.text)\n",
    "    alert.accept()\n",
    "    time.sleep(2)\n",
    "except:\n",
    "    print(\"alert not founc\")\n",
    "    try:\n",
    "        current_url = driver.current_url\n",
    "        print(current_url)\n",
    "        time.sleep(2)\n",
    "        logoutbtn = driver.find_element(By.XPATH, \"/html/body/nav/div/ul/li[1]/a\")\n",
    "        logoutbtn.click()\n",
    "        time.sleep(1)\n",
    "        current_url = driver.current_url\n",
    "        print(current_url)\n",
    "        btlibtn = driver.find_element(By.TAG_NAME,\"a\")\n",
    "        btlibtn.click()\n",
    "        time.sleep(1)\n",
    "        current_url = driver.current_url\n",
    "        print(current_url)\n",
    "        assert current_url == \"http://localhost/hospital_project/hospital/index1.php\"\n",
    "        print(\"Test successful\")\n",
    "    except AssertionError:\n",
    "        print(\"user not logged out\")\n",
    "driver.close()\n",
    "driver.quit()"
   ]
  },
  {
   "cell_type": "code",
   "execution_count": 34,
   "metadata": {},
   "outputs": [
    {
     "name": "stderr",
     "output_type": "stream",
     "text": [
      "C:\\Users\\furm9\\AppData\\Roaming\\Python\\Python37\\site-packages\\ipykernel_launcher.py:5: DeprecationWarning: executable_path has been deprecated, please pass in a Service object\n",
      "  \"\"\"\n"
     ]
    },
    {
     "name": "stdout",
     "output_type": "stream",
     "text": [
      "http://localhost/hospital_project/hospital/index1.php reached before form filling\n",
      "alert not founc\n",
      "http://localhost/hospital_project/hospital/admin-panel.php\n",
      "Test successful\n"
     ]
    }
   ],
   "source": [
    "import time\n",
    "from selenium import webdriver\n",
    "from selenium.webdriver.common.by import By\n",
    "chrome_options = webdriver.ChromeOptions()\n",
    "driver = webdriver.Chrome(\"chromedriver.exe\",options=chrome_options)\n",
    "driver.get(\"http://localhost/hospital_project/hospital/\")\n",
    "driver.maximize_window()\n",
    "\n",
    "alreadyuserlink = driver.find_element(By.XPATH, \"/html/body/div/div/div[2]/div/div[1]/form/div/div[1]/div[4]/a\")\n",
    "alreadyuserlink.click()\n",
    "current_url = driver.current_url\n",
    "print(current_url+\" reached before form filling\")\n",
    "emailfield = driver.find_element(By.NAME, \"email\")\n",
    "emailfield.send_keys(\"furm99@gmail.com\")\n",
    "password2field = driver.find_element(By.NAME,\"password2\")\n",
    "password2field.send_keys(\"fasih99\")\n",
    "inputbtn = driver.find_element(By.ID, \"inputbtn\")\n",
    "time.sleep(2)\n",
    "inputbtn.click()\n",
    "time.sleep(2)\n",
    "try:\n",
    "    alert = driver.switch_to.alert\n",
    "    time.sleep(2)\n",
    "    print(alert.text)\n",
    "    alert.accept()\n",
    "    time.sleep(2)\n",
    "except:\n",
    "    print(\"alert not founc\")\n",
    "    try:\n",
    "        current_url = driver.current_url\n",
    "        print(current_url)\n",
    "        time.sleep(2)\n",
    "        prescriptionsbtn = driver.find_element(By.ID, \"list-pres-list\")\n",
    "        prescriptionsbtn.click()\n",
    "        time.sleep(1)\n",
    "        apphistbtn = driver.find_element(By.ID, \"list-pat-list\")\n",
    "        apphistbtn.click()\n",
    "        time.sleep(1)\n",
    "        bookappbtn = driver.find_element(By.ID, \"list-home-list\")\n",
    "        bookappbtn.click()\n",
    "        time.sleep(1)\n",
    "        dashboardbtn = driver.find_element(By.ID, \"list-dash-list\")\n",
    "        dashboardbtn.click()\n",
    "        time.sleep(1)\n",
    "        assert current_url == \"http://localhost/hospital_project/hospital/admin-panel.php\"\n",
    "        print(\"Test successful\")\n",
    "    except AssertionError:\n",
    "        print(\"user not logged out\")\n",
    "driver.close()\n",
    "driver.quit()"
   ]
  },
  {
   "cell_type": "code",
   "execution_count": 45,
   "metadata": {},
   "outputs": [
    {
     "name": "stderr",
     "output_type": "stream",
     "text": [
      "C:\\Users\\furm9\\AppData\\Roaming\\Python\\Python37\\site-packages\\ipykernel_launcher.py:5: DeprecationWarning: executable_path has been deprecated, please pass in a Service object\n",
      "  \"\"\"\n"
     ]
    },
    {
     "name": "stdout",
     "output_type": "stream",
     "text": [
      "http://localhost/hospital_project/hospital/index1.php reached before form filling\n",
      "alert not founc\n",
      "http://localhost/hospital_project/hospital/admin-panel.php\n",
      "Your appointment successfully booked\n",
      "alert not founc\n",
      "http://localhost/hospital_project/hospital/admin-panel.php\n",
      "Test successful\n"
     ]
    }
   ],
   "source": [
    "import time\n",
    "from selenium import webdriver\n",
    "from selenium.webdriver.common.by import By\n",
    "chrome_options = webdriver.ChromeOptions()\n",
    "driver = webdriver.Chrome(\"chromedriver.exe\",options=chrome_options)\n",
    "driver.get(\"http://localhost/hospital_project/hospital/\")\n",
    "driver.maximize_window()\n",
    "\n",
    "alreadyuserlink = driver.find_element(By.XPATH, \"/html/body/div/div/div[2]/div/div[1]/form/div/div[1]/div[4]/a\")\n",
    "alreadyuserlink.click()\n",
    "current_url = driver.current_url\n",
    "print(current_url+\" reached before form filling\")\n",
    "emailfield = driver.find_element(By.NAME, \"email\")\n",
    "emailfield.send_keys(\"furm99@gmail.com\")\n",
    "password2field = driver.find_element(By.NAME,\"password2\")\n",
    "password2field.send_keys(\"fasih99\")\n",
    "inputbtn = driver.find_element(By.ID, \"inputbtn\")\n",
    "time.sleep(2)\n",
    "inputbtn.click()\n",
    "time.sleep(2)\n",
    "try:\n",
    "    alert = driver.switch_to.alert\n",
    "    time.sleep(2)\n",
    "    print(alert.text)\n",
    "    alert.accept()\n",
    "    time.sleep(2)\n",
    "except:\n",
    "    print(\"alert not founc\")\n",
    "    try:\n",
    "        current_url = driver.current_url\n",
    "        print(current_url)\n",
    "        time.sleep(2)\n",
    "        bookappbtn = driver.find_element(By.ID, \"list-home-list\")\n",
    "        bookappbtn.click()\n",
    "        time.sleep(1)\n",
    "        specselect = driver.find_element(By.ID, \"spec\")\n",
    "        specselect.click()\n",
    "        time.sleep(1)\n",
    "        specoption = driver.find_element(By.XPATH,\"/html/body/div/div/div[2]/div/div[2]/div/div/div/form/div/div[2]/select/option[2]\")\n",
    "        specoption.click()\n",
    "        time.sleep(1)\n",
    "        docselect = driver.find_element(By.ID, \"doctor\")\n",
    "        docselect.click()\n",
    "        time.sleep(1)\n",
    "        docoption = driver.find_element(By.XPATH, \"/html/body/div/div/div[2]/div/div[2]/div/div/div/form/div/div[4]/select/option[2]\")\n",
    "        docoption.click()\n",
    "        time.sleep(1)\n",
    "        # feeinput = driver.find_element(By.XPATH, \"/html/body/div/div/div[2]/div/div[2]/div/div/div/form/div/div[6]/input\")\n",
    "        # assert feeinput.text == 500 \n",
    "        dateinput = driver.find_element(By.NAME, \"appdate\")\n",
    "        dateinput.send_keys(\"12122023\")\n",
    "        time.sleep(1)\n",
    "        timeselect = driver.find_element(By.ID, \"apptime\")\n",
    "        timeselect.click()\n",
    "        time.sleep(1)\n",
    "        timeoption = driver.find_element(By.XPATH,\"/html/body/div/div/div[2]/div/div[2]/div/div/div/form/div/div[10]/select/option[2]\")\n",
    "        timeoption.click()\n",
    "        time.sleep(2)\n",
    "        submitbtn = driver.find_element(By.NAME,\"app-submit\")\n",
    "        time.sleep(2)\n",
    "        submitbtn.click()\n",
    "        try:\n",
    "            alert = driver.switch_to.alert\n",
    "            time.sleep(2)\n",
    "            print(alert.text)\n",
    "            alert.accept()\n",
    "            time.sleep(2)\n",
    "        except:\n",
    "            print(\"alert not founc\")\n",
    "        current_url = driver.current_url\n",
    "        print(current_url)\n",
    "\n",
    "        dashboardbtn = driver.find_element(By.ID, \"list-dash-list\")\n",
    "        dashboardbtn.click()\n",
    "        time.sleep(1)\n",
    "        \n",
    "        assert current_url == \"http://localhost/hospital_project/hospital/admin-panel.php\"\n",
    "        print(\"Test successful\")\n",
    "    except AssertionError:\n",
    "        print(\"user not logged out\")\n",
    "driver.close()\n",
    "driver.quit()"
   ]
  },
  {
   "cell_type": "code",
   "execution_count": 46,
   "metadata": {},
   "outputs": [
    {
     "name": "stderr",
     "output_type": "stream",
     "text": [
      "C:\\Users\\furm9\\AppData\\Roaming\\Python\\Python37\\site-packages\\ipykernel_launcher.py:5: DeprecationWarning: executable_path has been deprecated, please pass in a Service object\n",
      "  \"\"\"\n"
     ]
    },
    {
     "name": "stdout",
     "output_type": "stream",
     "text": [
      "http://localhost/hospital_project/hospital/index1.php reached before form filling\n",
      "alert not founc\n",
      "http://localhost/hospital_project/hospital/admin-panel.php\n",
      "We are sorry to inform that the doctor is not available in this time or date. Please choose different time or date!\n",
      "alert not founc\n",
      "http://localhost/hospital_project/hospital/admin-panel.php\n",
      "Test successful\n"
     ]
    }
   ],
   "source": [
    "import time\n",
    "from selenium import webdriver\n",
    "from selenium.webdriver.common.by import By\n",
    "chrome_options = webdriver.ChromeOptions()\n",
    "driver = webdriver.Chrome(\"chromedriver.exe\",options=chrome_options)\n",
    "driver.get(\"http://localhost/hospital_project/hospital/\")\n",
    "driver.maximize_window()\n",
    "\n",
    "alreadyuserlink = driver.find_element(By.XPATH, \"/html/body/div/div/div[2]/div/div[1]/form/div/div[1]/div[4]/a\")\n",
    "alreadyuserlink.click()\n",
    "current_url = driver.current_url\n",
    "print(current_url+\" reached before form filling\")\n",
    "emailfield = driver.find_element(By.NAME, \"email\")\n",
    "emailfield.send_keys(\"furm99@gmail.com\")\n",
    "password2field = driver.find_element(By.NAME,\"password2\")\n",
    "password2field.send_keys(\"fasih99\")\n",
    "inputbtn = driver.find_element(By.ID, \"inputbtn\")\n",
    "time.sleep(2)\n",
    "inputbtn.click()\n",
    "time.sleep(2)\n",
    "try:\n",
    "    alert = driver.switch_to.alert\n",
    "    time.sleep(2)\n",
    "    print(alert.text)\n",
    "    alert.accept()\n",
    "    time.sleep(2)\n",
    "except:\n",
    "    print(\"alert not founc\")\n",
    "    try:\n",
    "        current_url = driver.current_url\n",
    "        print(current_url)\n",
    "        time.sleep(2)\n",
    "        bookappbtn = driver.find_element(By.ID, \"list-home-list\")\n",
    "        bookappbtn.click()\n",
    "        time.sleep(1)\n",
    "        specselect = driver.find_element(By.ID, \"spec\")\n",
    "        specselect.click()\n",
    "        time.sleep(1)\n",
    "        specoption = driver.find_element(By.XPATH,\"/html/body/div/div/div[2]/div/div[2]/div/div/div/form/div/div[2]/select/option[2]\")\n",
    "        specoption.click()\n",
    "        time.sleep(1)\n",
    "        docselect = driver.find_element(By.ID, \"doctor\")\n",
    "        docselect.click()\n",
    "        time.sleep(1)\n",
    "        docoption = driver.find_element(By.XPATH, \"/html/body/div/div/div[2]/div/div[2]/div/div/div/form/div/div[4]/select/option[2]\")\n",
    "        docoption.click()\n",
    "        time.sleep(1)\n",
    "        # feeinput = driver.find_element(By.XPATH, \"/html/body/div/div/div[2]/div/div[2]/div/div/div/form/div/div[6]/input\")\n",
    "        # assert feeinput.text == 500 \n",
    "        dateinput = driver.find_element(By.NAME, \"appdate\")\n",
    "        dateinput.send_keys(\"12122023\")\n",
    "        time.sleep(1)\n",
    "        timeselect = driver.find_element(By.ID, \"apptime\")\n",
    "        timeselect.click()\n",
    "        time.sleep(1)\n",
    "        timeoption = driver.find_element(By.XPATH,\"/html/body/div/div/div[2]/div/div[2]/div/div/div/form/div/div[10]/select/option[2]\")\n",
    "        timeoption.click()\n",
    "        time.sleep(2)\n",
    "        submitbtn = driver.find_element(By.NAME,\"app-submit\")\n",
    "        time.sleep(2)\n",
    "        submitbtn.click()\n",
    "        try:\n",
    "            alert = driver.switch_to.alert\n",
    "            time.sleep(2)\n",
    "            print(alert.text)\n",
    "            alert.accept()\n",
    "            time.sleep(2)\n",
    "        except:\n",
    "            print(\"alert not founc\")\n",
    "       \n",
    "        current_url = driver.current_url\n",
    "        print(current_url)\n",
    "\n",
    "        dashboardbtn = driver.find_element(By.ID, \"list-dash-list\")\n",
    "        dashboardbtn.click()\n",
    "        time.sleep(1)\n",
    "        \n",
    "        assert current_url == \"http://localhost/hospital_project/hospital/admin-panel.php\"\n",
    "        print(\"Test successful\")\n",
    "    except AssertionError:\n",
    "        print(\"user not logged out\")\n",
    "driver.close()\n",
    "driver.quit()"
   ]
  },
  {
   "cell_type": "code",
   "execution_count": 53,
   "metadata": {},
   "outputs": [
    {
     "name": "stderr",
     "output_type": "stream",
     "text": [
      "C:\\Users\\furm9\\AppData\\Roaming\\Python\\Python37\\site-packages\\ipykernel_launcher.py:5: DeprecationWarning: executable_path has been deprecated, please pass in a Service object\n",
      "  \"\"\"\n"
     ]
    },
    {
     "name": "stdout",
     "output_type": "stream",
     "text": [
      "http://localhost/hospital_project/hospital/index1.php reached before form filling\n",
      "alert not founc\n",
      "http://localhost/hospital_project/hospital/admin-panel.php\n",
      "http://localhost/hospital_project/hospital/admin-panel.php#list-home\n",
      "http://localhost/hospital_project/hospital/admin-panel.php#app-hist\n",
      "http://localhost/hospital_project/hospital/admin-panel.php#list-pres\n",
      "Test successful\n"
     ]
    }
   ],
   "source": [
    "import time\n",
    "from selenium import webdriver\n",
    "from selenium.webdriver.common.by import By\n",
    "chrome_options = webdriver.ChromeOptions()\n",
    "driver = webdriver.Chrome(\"chromedriver.exe\",options=chrome_options)\n",
    "driver.get(\"http://localhost/hospital_project/hospital/\")\n",
    "driver.maximize_window()\n",
    "\n",
    "alreadyuserlink = driver.find_element(By.XPATH, \"/html/body/div/div/div[2]/div/div[1]/form/div/div[1]/div[4]/a\")\n",
    "alreadyuserlink.click()\n",
    "current_url = driver.current_url\n",
    "print(current_url+\" reached before form filling\")\n",
    "emailfield = driver.find_element(By.NAME, \"email\")\n",
    "emailfield.send_keys(\"furm99@gmail.com\")\n",
    "password2field = driver.find_element(By.NAME,\"password2\")\n",
    "password2field.send_keys(\"fasih99\")\n",
    "inputbtn = driver.find_element(By.ID, \"inputbtn\")\n",
    "time.sleep(2)\n",
    "inputbtn.click()\n",
    "time.sleep(2)\n",
    "try:\n",
    "    alert = driver.switch_to.alert\n",
    "    time.sleep(2)\n",
    "    print(alert.text)\n",
    "    alert.accept()\n",
    "    time.sleep(2)\n",
    "except:\n",
    "    print(\"alert not founc\")\n",
    "    try:\n",
    "        current_url = driver.current_url\n",
    "        print(current_url)\n",
    "        time.sleep(2)\n",
    "        bookancor = driver.find_element(By.XPATH, \"/html/body/div/div/div[2]/div/div[1]/div/div[1]/div[1]/div/div/p/a\")\n",
    "        bookancor.click()\n",
    "        current_url = driver.current_url\n",
    "        print(current_url)\n",
    "        time.sleep(1)\n",
    "        dashboardbtn = driver.find_element(By.ID, \"list-dash-list\")\n",
    "        dashboardbtn.click()\n",
    "        time.sleep(1)\n",
    "        myappancor = driver.find_element(By.XPATH, \"/html/body/div/div/div[2]/div/div[1]/div/div[1]/div[2]/div/div/p/a\")\n",
    "        myappancor.click()\n",
    "        current_url = driver.current_url\n",
    "        print(current_url)\n",
    "        time.sleep(1)\n",
    "        dashboardbtn = driver.find_element(By.ID, \"list-dash-list\")\n",
    "        dashboardbtn.click()\n",
    "        time.sleep(1)\n",
    "        prescancor = driver.find_element(By.XPATH, \"/html/body/div/div/div[2]/div/div[1]/div/div[2]/div/div/p/a\")\n",
    "        prescancor.click()\n",
    "        current_url = driver.current_url\n",
    "        print(current_url)\n",
    "        time.sleep(1)\n",
    "        dashboardbtn = driver.find_element(By.ID, \"list-dash-list\")\n",
    "        dashboardbtn.click()\n",
    "        current_url = driver.current_url\n",
    "        assert current_url == \"http://localhost/hospital_project/hospital/admin-panel.php#list-pres\"\n",
    "        print(\"Test successful\")\n",
    "    except AssertionError:\n",
    "        print(\"user not logged out\")\n",
    "driver.close()\n",
    "driver.quit()"
   ]
  },
  {
   "cell_type": "code",
   "execution_count": 57,
   "metadata": {},
   "outputs": [
    {
     "name": "stderr",
     "output_type": "stream",
     "text": [
      "C:\\Users\\furm9\\AppData\\Roaming\\Python\\Python37\\site-packages\\ipykernel_launcher.py:5: DeprecationWarning: executable_path has been deprecated, please pass in a Service object\n",
      "  \"\"\"\n"
     ]
    },
    {
     "name": "stdout",
     "output_type": "stream",
     "text": [
      "alert not founc\n",
      "http://localhost/hospital_project/hospital/doctor-panel.php\n",
      "http://localhost/hospital_project/hospital/doctor-panel.php#list-app\n",
      "http://localhost/hospital_project/hospital/doctor-panel.php#list-pres\n",
      "Test successful\n"
     ]
    }
   ],
   "source": [
    "import time\n",
    "from selenium import webdriver\n",
    "from selenium.webdriver.common.by import By\n",
    "chrome_options = webdriver.ChromeOptions()\n",
    "driver = webdriver.Chrome(\"chromedriver.exe\",options=chrome_options)\n",
    "driver.get(\"http://localhost/hospital_project/hospital/\")\n",
    "driver.maximize_window()\n",
    "\n",
    "doctorbtn = driver.find_element(By.XPATH, \"/html/body/div/div/div[2]/ul/li[2]/a\")\n",
    "doctorbtn.click()\n",
    "time.sleep(1)\n",
    "username3field = driver.find_element(By.XPATH, \"/html/body/div/div/div[2]/div/div[2]/form/div/div[1]/div/input\")\n",
    "username3field.send_keys(\"salman\")\n",
    "password3field = driver.find_element(By.XPATH, \"/html/body/div/div/div[2]/div/div[2]/form/div/div[2]/div/input\")\n",
    "password3field.send_keys(\"salman123\")\n",
    "docsubbtn = driver.find_element(By.NAME, \"docsub1\")\n",
    "time.sleep(1)\n",
    "docsubbtn.click()\n",
    "try:\n",
    "    alert = driver.switch_to.alert\n",
    "    time.sleep(2)\n",
    "    print(alert.text)\n",
    "    alert.accept()\n",
    "    time.sleep(2)\n",
    "except:\n",
    "    print(\"alert not founc\")\n",
    "    try:\n",
    "        current_url = driver.current_url\n",
    "        print(current_url)\n",
    "        time.sleep(1)\n",
    "        prescbtn = driver.find_element(By.XPATH, \"/html/body/div/div/div[1]/div/a[3]\")\n",
    "        prescbtn.click()\n",
    "        time.sleep(1)\n",
    "        appbtn = driver.find_element(By.XPATH, \"/html/body/div/div/div[1]/div/a[2]\")\n",
    "        appbtn.click()\n",
    "        time.sleep(1)\n",
    "        dashbtn = driver.find_element(By.XPATH, \"/html/body/div/div/div[1]/div/a[1]\")\n",
    "        dashbtn.click()\n",
    "        time.sleep(1)\n",
    "        prescancor = driver.find_element(By.XPATH, \"/html/body/div/div/div[2]/div/div[1]/div/div/div[1]/div/div/p/a\")\n",
    "        prescancor.click()\n",
    "        current_url = driver.current_url\n",
    "        print(current_url)\n",
    "        time.sleep(1)\n",
    "        dashbtn = driver.find_element(By.XPATH, \"/html/body/div/div/div[1]/div/a[1]\")\n",
    "        dashbtn.click()\n",
    "        time.sleep(1)\n",
    "        appcancor = driver.find_element(By.XPATH, \"/html/body/div/div/div[2]/div/div[1]/div/div/div[2]/div/div/p/a\")\n",
    "        appcancor.click()\n",
    "        current_url = driver.current_url\n",
    "        print(current_url)\n",
    "        time.sleep(1)\n",
    "        dashbtn = driver.find_element(By.XPATH, \"/html/body/div/div/div[1]/div/a[1]\")\n",
    "        dashbtn.click()\n",
    "        time.sleep(1)\n",
    "        assert current_url == \"http://localhost/hospital_project/hospital/doctor-panel.php#list-pres\"\n",
    "        print(\"Test successful\")\n",
    "    except AssertionError:\n",
    "        print(\"user not logged in\")\n",
    "driver.close()\n",
    "driver.quit()"
   ]
  },
  {
   "cell_type": "code",
   "execution_count": 58,
   "metadata": {},
   "outputs": [
    {
     "name": "stderr",
     "output_type": "stream",
     "text": [
      "C:\\Users\\furm9\\AppData\\Roaming\\Python\\Python37\\site-packages\\ipykernel_launcher.py:5: DeprecationWarning: executable_path has been deprecated, please pass in a Service object\n",
      "  \"\"\"\n"
     ]
    },
    {
     "name": "stdout",
     "output_type": "stream",
     "text": [
      "alert not founc\n",
      "http://localhost/hospital_project/hospital/doctor-panel.php\n",
      "http://localhost/hospital_project/hospital/logout1.php\n",
      "Test successful\n"
     ]
    }
   ],
   "source": [
    "import time\n",
    "from selenium import webdriver\n",
    "from selenium.webdriver.common.by import By\n",
    "chrome_options = webdriver.ChromeOptions()\n",
    "driver = webdriver.Chrome(\"chromedriver.exe\",options=chrome_options)\n",
    "driver.get(\"http://localhost/hospital_project/hospital/\")\n",
    "driver.maximize_window()\n",
    "\n",
    "doctorbtn = driver.find_element(By.XPATH, \"/html/body/div/div/div[2]/ul/li[2]/a\")\n",
    "doctorbtn.click()\n",
    "time.sleep(1)\n",
    "username3field = driver.find_element(By.XPATH, \"/html/body/div/div/div[2]/div/div[2]/form/div/div[1]/div/input\")\n",
    "username3field.send_keys(\"salman\")\n",
    "password3field = driver.find_element(By.XPATH, \"/html/body/div/div/div[2]/div/div[2]/form/div/div[2]/div/input\")\n",
    "password3field.send_keys(\"salman123\")\n",
    "docsubbtn = driver.find_element(By.NAME, \"docsub1\")\n",
    "time.sleep(1)\n",
    "docsubbtn.click()\n",
    "try:\n",
    "    alert = driver.switch_to.alert\n",
    "    time.sleep(2)\n",
    "    print(alert.text)\n",
    "    alert.accept()\n",
    "    time.sleep(2)\n",
    "except:\n",
    "    print(\"alert not founc\")\n",
    "    try:\n",
    "        current_url = driver.current_url\n",
    "        print(current_url)\n",
    "        time.sleep(1)\n",
    "        logoutbtn = driver.find_element(By.XPATH, \"/html/body/nav/div/ul/li[1]/a\")\n",
    "        logoutbtn.click()\n",
    "        time.sleep(1)\n",
    "        current_url = driver.current_url\n",
    "        print(current_url)\n",
    "        bthbtn = driver.find_element(By.TAG_NAME, \"a\")\n",
    "        bthbtn.click()\n",
    "        time.sleep(1)\n",
    "        current_url = driver.current_url\n",
    "        assert current_url == \"http://localhost/hospital_project/hospital/index.php\"\n",
    "        print(\"Test successful\")\n",
    "    except AssertionError:\n",
    "        print(\"user not logged in\")\n",
    "\n",
    "driver.close()\n",
    "driver.quit()"
   ]
  },
  {
   "cell_type": "code",
   "execution_count": 60,
   "metadata": {},
   "outputs": [
    {
     "name": "stderr",
     "output_type": "stream",
     "text": [
      "C:\\Users\\furm9\\AppData\\Roaming\\Python\\Python37\\site-packages\\ipykernel_launcher.py:5: DeprecationWarning: executable_path has been deprecated, please pass in a Service object\n",
      "  \"\"\"\n"
     ]
    },
    {
     "name": "stdout",
     "output_type": "stream",
     "text": [
      "alert not founc\n",
      "http://localhost/hospital_project/hospital/admin-panel1.php\n",
      "http://localhost/hospital_project/hospital/logout1.php\n",
      "Test successful\n"
     ]
    }
   ],
   "source": [
    "import time\n",
    "from selenium import webdriver\n",
    "from selenium.webdriver.common.by import By\n",
    "chrome_options = webdriver.ChromeOptions()\n",
    "driver = webdriver.Chrome(\"chromedriver.exe\",options=chrome_options)\n",
    "driver.get(\"http://localhost/hospital_project/hospital/\")\n",
    "driver.maximize_window()\n",
    "\n",
    "doctorbtn = driver.find_element(By.XPATH, \"/html/body/div/div/div[2]/ul/li[3]/a\")\n",
    "doctorbtn.click()\n",
    "time.sleep(1)\n",
    "username1field = driver.find_element(By.NAME, \"username1\")\n",
    "username1field.send_keys(\"admin\")\n",
    "password2field = driver.find_element(By.NAME, \"password2\")\n",
    "password2field.send_keys(\"admin123\")\n",
    "docsubbtn = driver.find_element(By.NAME, \"adsub\")\n",
    "time.sleep(1)\n",
    "docsubbtn.click()\n",
    "time.sleep(2)\n",
    "try:\n",
    "    alert = driver.switch_to.alert\n",
    "    time.sleep(2)\n",
    "    print(alert.text)\n",
    "    alert.accept()\n",
    "    time.sleep(2)\n",
    "except:\n",
    "    print(\"alert not founc\")\n",
    "    try:\n",
    "        current_url = driver.current_url\n",
    "        print(current_url)\n",
    "        time.sleep(1)\n",
    "        logoutbtn = driver.find_element(By.XPATH, \"/html/body/nav/div/ul/li[1]/a\")\n",
    "        logoutbtn.click()\n",
    "        time.sleep(1)\n",
    "        current_url = driver.current_url\n",
    "        print(current_url)\n",
    "        bthbtn = driver.find_element(By.TAG_NAME, \"a\")\n",
    "        bthbtn.click()\n",
    "        time.sleep(1)\n",
    "        current_url = driver.current_url\n",
    "        assert current_url == \"http://localhost/hospital_project/hospital/index.php\"\n",
    "        print(\"Test successful\")\n",
    "    except AssertionError:\n",
    "        print(\"user not logged in\")\n",
    "driver.close()\n",
    "driver.quit()"
   ]
  },
  {
   "cell_type": "code",
   "execution_count": null,
   "metadata": {},
   "outputs": [],
   "source": [
    "import time\n",
    "from selenium import webdriver\n",
    "from selenium.webdriver.common.by import By\n",
    "chrome_options = webdriver.ChromeOptions()\n",
    "driver = webdriver.Chrome(\"chromedriver.exe\",options=chrome_options)\n",
    "driver.get(\"http://localhost/hospital_project/hospital/\")\n",
    "driver.maximize_window()\n",
    "\n",
    "doctorbtn = driver.find_element(By.XPATH, \"/html/body/div/div/div[2]/ul/li[3]/a\")\n",
    "doctorbtn.click()\n",
    "time.sleep(1)\n",
    "username1field = driver.find_element(By.NAME, \"username1\")\n",
    "username1field.send_keys(\"admin\")\n",
    "password2field = driver.find_element(By.NAME, \"password2\")\n",
    "password2field.send_keys(\"admin123\")\n",
    "docsubbtn = driver.find_element(By.NAME, \"adsub\")\n",
    "time.sleep(1)\n",
    "docsubbtn.click()\n",
    "time.sleep(2)\n",
    "try:\n",
    "    alert = driver.switch_to.alert\n",
    "    time.sleep(2)\n",
    "    print(alert.text)\n",
    "    alert.accept()\n",
    "    time.sleep(2)\n",
    "except:\n",
    "    print(\"alert not founc\")\n",
    "    try:\n",
    "        current_url = driver.current_url\n",
    "        print(current_url)\n",
    "        time.sleep(1)\n",
    "        \n",
    "\n",
    "        \n",
    "        time.sleep(1)\n",
    "        current_url = driver.current_url\n",
    "        assert current_url == \"http://localhost/hospital_project/hospital/index.php\"\n",
    "        print(\"Test successful\")\n",
    "    except AssertionError:\n",
    "        print(\"user not logged in\")\n",
    "driver.close()\n",
    "driver.quit()"
   ]
  }
 ],
 "metadata": {
  "kernelspec": {
   "display_name": "Python 3.7.0 64-bit",
   "language": "python",
   "name": "python3"
  },
  "language_info": {
   "codemirror_mode": {
    "name": "ipython",
    "version": 3
   },
   "file_extension": ".py",
   "mimetype": "text/x-python",
   "name": "python",
   "nbconvert_exporter": "python",
   "pygments_lexer": "ipython3",
   "version": "3.7.0"
  },
  "orig_nbformat": 4,
  "vscode": {
   "interpreter": {
    "hash": "3e40f51754c79f023ce4dbbca9aac9f717fdd8f3fd66888bd8477a57445663a1"
   }
  }
 },
 "nbformat": 4,
 "nbformat_minor": 2
}
